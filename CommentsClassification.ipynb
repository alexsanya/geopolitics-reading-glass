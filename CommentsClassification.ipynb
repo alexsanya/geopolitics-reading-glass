{
 "cells": [
  {
   "cell_type": "markdown",
   "id": "b5c34400-66f8-4d47-978e-f78406b242f6",
   "metadata": {},
   "source": [
    "# How Israel's Strike on Qatar Shatters the Middle East\n",
    "\n",
    "**Source:** [YouTube Video](https://youtu.be/eZM2Ik-FHEU?si=tfgYdqRTDJAG69iv)  \n",
    "**Channel:** CaspianReport  \n",
    "**Generated:** September 15, 2025\n"
   ]
  },
  {
   "cell_type": "markdown",
   "id": "bdcb6d86-bb43-45b0-800e-27a4c8f7b96c",
   "metadata": {},
   "source": [
    "## Load data\n",
    "\n",
    "I used Claude Desctop with youtube_transcript MCP for extracting video subtitles\\\n",
    "and formatting them into Markdown document\\\n",
    "For comments scrapping I used Scrapecreators API\\\n",
    "Take a look at DataCollection notebook for more details\n",
    "\n",
    "**Links**\n",
    "- youtube_transcript MCP: https://hub.docker.com/r/mcp/youtube-transcript\n",
    "- Scrapecreators API: https://app.scrapecreators.com/playground"
   ]
  },
  {
   "cell_type": "markdown",
   "id": "37d8a39d-7425-422f-8ba2-aded40b390bc",
   "metadata": {},
   "source": [
    "### Load video transcript"
   ]
  },
  {
   "cell_type": "code",
   "execution_count": 1,
   "id": "2c92c958-38fc-466d-8f30-6a0d4e088a2b",
   "metadata": {},
   "outputs": [],
   "source": [
    "import dotenv\n",
    "import pandas as pd"
   ]
  },
  {
   "cell_type": "code",
   "execution_count": 2,
   "id": "2cc89949-d759-4038-9193-e415070a1475",
   "metadata": {},
   "outputs": [],
   "source": [
    "dotenv.load_dotenv()\n",
    "\n",
    "with open('data/video_transcript.md', 'r', encoding='utf-8') as f:\n",
    "    transcript = f.read()"
   ]
  },
  {
   "cell_type": "markdown",
   "id": "c253e849-b97d-46b0-b1c9-f5ce88969ba2",
   "metadata": {},
   "source": [
    "### Load comments"
   ]
  },
  {
   "cell_type": "code",
   "execution_count": 3,
   "id": "4409e53d-6370-4913-8f3a-733190b93168",
   "metadata": {},
   "outputs": [],
   "source": [
    "df = pd.read_csv('data/youtube_comments.csv')"
   ]
  },
  {
   "cell_type": "code",
   "execution_count": 4,
   "id": "75941a6d-7b7c-4efe-b2e4-d5fe2a3a76cf",
   "metadata": {},
   "outputs": [
    {
     "data": {
      "text/plain": [
       "(981, 4)"
      ]
     },
     "execution_count": 4,
     "metadata": {},
     "output_type": "execute_result"
    }
   ],
   "source": [
    "df.shape"
   ]
  },
  {
   "cell_type": "markdown",
   "id": "c2dcb661-a84d-47d5-a927-8d00e8c43145",
   "metadata": {},
   "source": [
    "## Initialize DSPY"
   ]
  },
  {
   "cell_type": "code",
   "execution_count": 5,
   "id": "e2929480-1ec5-4e76-b26e-a401fcf3961e",
   "metadata": {},
   "outputs": [],
   "source": [
    "import os\n",
    "import dspy\n",
    "lm = dspy.LM(\"openai/gpt-5\", api_key=os.environ[\"OPENAI_API_KEY\"], api_base=os.environ[\"OPENAI_BASE_URL\"], temperature=1.0, max_tokens=16000)\n",
    "dspy.configure(lm=lm)"
   ]
  },
  {
   "cell_type": "markdown",
   "id": "47bee3c5-6079-43c4-81d0-f56022e76d3b",
   "metadata": {},
   "source": [
    "## Summarizing video"
   ]
  },
  {
   "cell_type": "code",
   "execution_count": 6,
   "id": "d92e03e9-635a-4ca6-9c87-8c25c82eca13",
   "metadata": {},
   "outputs": [],
   "source": [
    "summarize = dspy.ChainOfThought('document -> summary')\n",
    "response = summarize(document=transcript)\n",
    "video_summary = response.summary"
   ]
  },
  {
   "cell_type": "code",
   "execution_count": 7,
   "id": "3effe5eb-e12f-4c13-b1c2-6b4828081bb0",
   "metadata": {},
   "outputs": [
    {
     "data": {
      "text/markdown": [
       "- Event: Israel reportedly struck targets in Doha, Qatar, aiming at Hamas leaders Khalil al‑Haya and Khaled Mashal; both survived, while several mid‑level Hamas officials were killed. The video argues this likely crippled the most viable Gaza ceasefire channel.\n",
       "- Mediation fallout: Qatar’s long‑standing role as a US‑backed mediator hosting Hamas is undermined; Israel signals willingness to conduct cross‑border assassinations despite diplomatic risks, eroding the notion of “safe havens.”\n",
       "- US angle: With Al‑Udeid Air Base in Qatar, the US presence did not prevent strikes by Iran (June 2025) or Israel (now), leading the video to claim US security guarantees appear unreliable. Conflicting US–Qatar accounts about warnings further cloud Washington’s role.\n",
       "- Technical claims: The range to Doha implies Israeli F‑35s likely needed aerial refueling; UK involvement is deemed unlikely due to incompatible tanker systems. Regardless of flight path (via Saudi/Jordan or Red Sea), the video argues US sensors would have detected and thus tacitly approved the operation—an assertion presented as inference, not proven fact.\n",
       "- Qatar’s air defenses: Despite advanced systems (Patriot, THAAD, NASAMS, Skynex and modern fighters), no interception occurred. The video suggests prior awareness or pressure may explain the silence, while acknowledging this is speculative.\n",
       "- Media/politics: The meeting allegedly followed a Trump‑pushed ceasefire offer; Hamas accuses the US of complicity. The video notes uneven media coverage, warning of distorted public perception.\n",
       "- Regional implications: Qatar faces rising risk while hosting Hamas without productive mediation and is more likely to expel Hamas leadership. Mediation may shift to Egypt and the US but with limited leverage over Hamas; ceasefire prospects dim.\n",
       "- Strategic shifts: Perceived US protection gaps may drive Doha to deepen ties with Turkey (already with troops in Qatar) and improve accommodation with Saudi Arabia/UAE.\n",
       "- Bottom line: The strike signals Israel’s readiness to breach regional red lines; Qatar’s mediator model is collapsing, regional diplomacy is set back, and the Gaza conflict is likely to grind on with broader destabilizing repercussions."
      ],
      "text/plain": [
       "<IPython.core.display.Markdown object>"
      ]
     },
     "execution_count": 7,
     "metadata": {},
     "output_type": "execute_result"
    }
   ],
   "source": [
    "from IPython.display import Markdown\n",
    "Markdown(video_summary)"
   ]
  },
  {
   "cell_type": "code",
   "execution_count": 8,
   "id": "94daee4f-7317-46de-a78d-ac0fb306b909",
   "metadata": {},
   "outputs": [
    {
     "name": "stdout",
     "output_type": "stream",
     "text": [
      "Summary size is just 19.97% from original document size\n"
     ]
    }
   ],
   "source": [
    "size_share = len(video_summary) / len(transcript) * 100\n",
    "print(f\"Summary size is just {round(size_share, 2)}% from original document size\")"
   ]
  },
  {
   "cell_type": "markdown",
   "id": "ab98252e-2b8d-45c5-acd8-b174889f47c0",
   "metadata": {},
   "source": [
    "## Likes distribution historgam\n",
    "Let's take a look at likes distribution so we can draw a border between relevant comments based on number of likes and the rest that needs to be checked by LLM"
   ]
  },
  {
   "cell_type": "code",
   "execution_count": 9,
   "id": "a47fbcb9-8dda-4c10-8903-c17c69b756b5",
   "metadata": {},
   "outputs": [
    {
     "name": "stdout",
     "output_type": "stream",
     "text": [
      "\n",
      "🎯 Quick Insights:\n",
      "• Most comments (66.6%) have 0 likes\n",
      "• Average likes per comment: 12.4\n",
      "• Top 10% of comments have ≥6 likes\n",
      "• Correlation between likes and replies: 0.897\n"
     ]
    },
    {
     "data": {
      "image/png": "[encoded data removed]",
      "text/plain": [
       "<Figure size 1200x600 with 2 Axes>"
      ]
     },
     "metadata": {},
     "output_type": "display_data"
    }
   ],
   "source": [
    "import matplotlib.pyplot as plt\n",
    "import seaborn as sns\n",
    "import numpy as np\n",
    "\n",
    "# Set style for better-looking plots\n",
    "plt.style.use('default')\n",
    "sns.set_palette(\"husl\")\n",
    "\n",
    "# Assuming your DataFrame is called 'df'\n",
    "# If it has a different name, replace 'df' with your DataFrame variable name\n",
    "\n",
    "# =============================================================================\n",
    "# METHOD 4: Customizable Histogram Function\n",
    "# =============================================================================\n",
    "\n",
    "def create_likes_histogram(df, bins=30, figsize=(10, 6), color='skyblue', \n",
    "                          show_stats=True, title=\"Distribution of Likes\"):\n",
    "    \"\"\"\n",
    "    Create a customizable histogram for likes data.\n",
    "    \n",
    "    Parameters:\n",
    "    - df: DataFrame with 'likes' column\n",
    "    - bins: Number of bins for histogram\n",
    "    - figsize: Figure size (width, height)\n",
    "    - color: Histogram color\n",
    "    - show_stats: Whether to show statistics on plot\n",
    "    - title: Plot title\n",
    "    \"\"\"\n",
    "# =============================================================================\n",
    "# METHOD 5: Histogram by Ranges\n",
    "# =============================================================================\n",
    "\n",
    "# Create histogram with specific ranges\n",
    "plt.figure(figsize=(12, 6))\n",
    "\n",
    "# Define like ranges\n",
    "ranges = [(0, 0), (1, 5), (6, 10), (11, 20), (21, 50), (51, float('inf'))]\n",
    "range_labels = ['0 likes', '1-5 likes', '6-10 likes', '11-20 likes', '21-50 likes', '50+ likes']\n",
    "range_counts = []\n",
    "\n",
    "for min_val, max_val in ranges:\n",
    "    if max_val == float('inf'):\n",
    "        count = (df['likes'] >= min_val).sum()\n",
    "    else:\n",
    "        count = ((df['likes'] >= min_val) & (df['likes'] <= max_val)).sum()\n",
    "    range_counts.append(count)\n",
    "\n",
    "# Create bar plot for ranges\n",
    "plt.subplot(1, 2, 1)\n",
    "bars = plt.bar(range_labels, range_counts, color='lightcoral', alpha=0.7, edgecolor='black')\n",
    "plt.title('Likes Distribution by Ranges')\n",
    "plt.xlabel('Like Ranges')\n",
    "plt.ylabel('Number of Comments')\n",
    "plt.xticks(rotation=45)\n",
    "\n",
    "# Add value labels on bars\n",
    "for bar, count in zip(bars, range_counts):\n",
    "    plt.text(bar.get_x() + bar.get_width()/2, bar.get_height() + 0.5, \n",
    "             str(count), ha='center', va='bottom')\n",
    "\n",
    "# =============================================================================\n",
    "# METHOD 6: Compare Likes vs Replies\n",
    "# =============================================================================\n",
    "\n",
    "\n",
    "plt.subplot(1, 2, 2)\n",
    "plt.scatter(df['likes'], df['replies'], alpha=0.6, color='purple')\n",
    "plt.xlabel('Number of Likes')\n",
    "plt.ylabel('Number of Replies')\n",
    "plt.title('Likes vs Replies Relationship')\n",
    "plt.grid(True, alpha=0.3)\n",
    "\n",
    "# Add correlation coefficient\n",
    "correlation = df['likes'].corr(df['replies'])\n",
    "plt.text(0.05, 0.95, f'Correlation: {correlation:.3f}', \n",
    "         transform=plt.gca().transAxes, bbox=dict(boxstyle='round', facecolor='white', alpha=0.8))\n",
    "\n",
    "print(\"\\n🎯 Quick Insights:\")\n",
    "print(f\"• Most comments ({(df['likes'] == 0).mean()*100:.1f}%) have 0 likes\")\n",
    "print(f\"• Average likes per comment: {df['likes'].mean():.1f}\")\n",
    "print(f\"• Top 10% of comments have ≥{df['likes'].quantile(0.9):.0f} likes\")\n",
    "print(f\"• Correlation between likes and replies: {df['likes'].corr(df['replies']):.3f}\")"
   ]
  },
  {
   "cell_type": "markdown",
   "id": "2efd7581-3433-416c-acb7-56005373bb58",
   "metadata": {},
   "source": [
    "The histogram shows that it make sense to check on relevance comments with less than 6 likes"
   ]
  },
  {
   "cell_type": "markdown",
   "id": "280eb8bc-e8f2-4eaf-bc09-6755105671e8",
   "metadata": {},
   "source": [
    "## Excluding irrelevant comments"
   ]
  },
  {
   "cell_type": "markdown",
   "id": "bd182809-848a-412c-bde9-cd8046675053",
   "metadata": {},
   "source": [
    "Let's programmatically construct the promt that will filter out comments irrelevant to the topic of the video\\\n",
    "It make sense to do as a first step to save API costs resources - only relevant comments will undergo deeper reasoning later"
   ]
  },
  {
   "cell_type": "code",
   "execution_count": 10,
   "id": "74aec05a-90a2-478a-97c5-8fee9f5f16f2",
   "metadata": {},
   "outputs": [],
   "source": [
    "from typing import Literal, List, Optional\n",
    "\n",
    "class RelevanceAssesor(dspy.Signature):\n",
    "    \"\"\"\n",
    "    Analyze and classify a YouTube comment in relation to a video about Israel's strike on Qatar.\n",
    "    \n",
    "    This signature performs relevance assessment of comment\n",
    "    \"\"\"\n",
    "    \n",
    "    # Input Fields\n",
    "    document_summary: str = dspy.InputField(\n",
    "        desc=\"Comprehensive summary of the video/document content providing context for analysis\"\n",
    "    )\n",
    "    \n",
    "    comment_text: str = dspy.InputField(\n",
    "        desc=\"The full text of the YouTube comment to be analyzed\"\n",
    "    )\n",
    "\n",
    "    score: int = dspy.OutputField(\n",
    "        description=\"Relevance score from 1-5 (1=off-topic, 3=somewhat related, 5=directly addresses key points)\"\n",
    "    )\n",
    "    confidence: float = dspy.OutputField(\n",
    "        desc=\"Overall confidence in relevance assessments from 0.0 (very uncertain due to ambiguous language) to 1.0 (crystal clear position statements)\"\n",
    "    )"
   ]
  },
  {
   "cell_type": "code",
   "execution_count": 11,
   "id": "267c5a05-a23d-4cbb-a35e-17af139e15c5",
   "metadata": {},
   "outputs": [],
   "source": [
    "relevance_filter = dspy.ChainOfThought(RelevanceAssesor)"
   ]
  },
  {
   "cell_type": "code",
   "execution_count": 12,
   "id": "3c597454-911b-4d46-b6da-96ba5d5de8aa",
   "metadata": {},
   "outputs": [
    {
     "name": "stdout",
     "output_type": "stream",
     "text": [
      "Prediction(\n",
      "    reasoning='The comment aligns with a central claim of the video: that US security guarantees appear unreliable in light of strikes in Qatar despite the US presence. It extrapolates the broader implications—rising insecurity, isolation, and militarization—which the video also frames as regional destabilization and a breakdown of mediation. While emotionally expressive and not engaging technical specifics, it directly addresses a key point about waning US protection.',\n",
      "    score=5,\n",
      "    confidence=0.93\n",
      ")\n"
     ]
    }
   ],
   "source": [
    "from pprint import pprint\n",
    "\n",
    "result = relevance_filter(document_summary=video_summary, comment_text=df.loc[796].content)\n",
    "pprint(result)"
   ]
  },
  {
   "cell_type": "markdown",
   "id": "acfa816f-59b0-4141-83c2-22535e0faecc",
   "metadata": {},
   "source": [
    "Let's see what prompt been automatically generated from Signature and passed to LLM"
   ]
  },
  {
   "cell_type": "code",
   "execution_count": 13,
   "id": "c87c378a-36ce-4570-ba19-71a5f7b32c62",
   "metadata": {},
   "outputs": [
    {
     "data": {
      "text/markdown": [
       "Your input fields are:\n",
       "1. `document_summary` (str): Comprehensive summary of the video/document content providing context for analysis\n",
       "2. `comment_text` (str): The full text of the YouTube comment to be analyzed\n",
       "Your output fields are:\n",
       "1. `reasoning` (str): \n",
       "2. `score` (int): Relevance score from 1-5 (1=off-topic, 3=somewhat related, 5=directly addresses key points)\n",
       "3. `confidence` (float): Overall confidence in relevance assessments from 0.0 (very uncertain due to ambiguous language) to 1.0 (crystal clear position statements)\n",
       "All interactions will be structured in the following way, with the appropriate values filled in.\n",
       "\n",
       "[[ ## document_summary ## ]]\n",
       "{document_summary}\n",
       "\n",
       "[[ ## comment_text ## ]]\n",
       "{comment_text}\n",
       "\n",
       "[[ ## reasoning ## ]]\n",
       "{reasoning}\n",
       "\n",
       "[[ ## score ## ]]\n",
       "{score}        # note: the value you produce must be a single int value\n",
       "\n",
       "[[ ## confidence ## ]]\n",
       "{confidence}        # note: the value you produce must be a single float value\n",
       "\n",
       "[[ ## completed ## ]]\n",
       "In adhering to this structure, your objective is: \n",
       "        Analyze and classify a YouTube comment in relation to a video about Israel's strike on Qatar.\n",
       "        \n",
       "        This signature performs relevance assessment of comment"
      ],
      "text/plain": [
       "<IPython.core.display.Markdown object>"
      ]
     },
     "execution_count": 13,
     "metadata": {},
     "output_type": "execute_result"
    }
   ],
   "source": [
    "Markdown(relevance_filter.history[0]['messages'][0]['content'])"
   ]
  },
  {
   "cell_type": "code",
   "execution_count": 14,
   "id": "ec83bb67-d5a1-46fe-b4f0-ba7fd98a8390",
   "metadata": {},
   "outputs": [
    {
     "data": {
      "text/markdown": [
       "[[ ## reasoning ## ]]\n",
       "The comment aligns with a central claim of the video: that US security guarantees appear unreliable in light of strikes in Qatar despite the US presence. It extrapolates the broader implications—rising insecurity, isolation, and militarization—which the video also frames as regional destabilization and a breakdown of mediation. While emotionally expressive and not engaging technical specifics, it directly addresses a key point about waning US protection.\n",
       "\n",
       "[[ ## score ## ]]\n",
       "5\n",
       "\n",
       "[[ ## confidence ## ]]\n",
       "0.93\n",
       "\n",
       "[[ ## completed ## ]]"
      ],
      "text/plain": [
       "<IPython.core.display.Markdown object>"
      ]
     },
     "execution_count": 14,
     "metadata": {},
     "output_type": "execute_result"
    }
   ],
   "source": [
    "Markdown(relevance_filter.history[0]['response']['choices'][0]['message']['content'])"
   ]
  },
  {
   "cell_type": "markdown",
   "id": "efebe6ac-cca8-4dc6-9916-aca736d021cb",
   "metadata": {},
   "source": [
    "Let's split comments to verified and with low engagement"
   ]
  },
  {
   "cell_type": "code",
   "execution_count": 18,
   "id": "f54e3937-3f72-44f1-9436-172bb0e665d7",
   "metadata": {},
   "outputs": [],
   "source": [
    "df_verified = df[df.likes >= 6]\n",
    "df_low_engagement = df[df.likes < 6].copy()"
   ]
  },
  {
   "cell_type": "markdown",
   "id": "89f3ec62-d1a9-4032-8207-6d9377143251",
   "metadata": {},
   "source": [
    "Let's check how many comments do we need to asses on relevance"
   ]
  },
  {
   "cell_type": "code",
   "execution_count": 20,
   "id": "7415e07d-c124-4bb0-bafb-3edb685b3206",
   "metadata": {},
   "outputs": [
    {
     "data": {
      "text/plain": [
       "(878, 4)"
      ]
     },
     "execution_count": 20,
     "metadata": {},
     "output_type": "execute_result"
    }
   ],
   "source": [
    "df_low_engagement.shape"
   ]
  },
  {
   "cell_type": "code",
   "execution_count": 19,
   "id": "b7d2ed95-fe33-44f3-a85c-a13115877ccf",
   "metadata": {},
   "outputs": [
    {
     "data": {
      "text/plain": [
       "[\"it's not a conflict its a genocide\",\n",
       " \"Lured-in with promises of peace...\\nWas that Braveheart? Burned in the stone house, the entire peace envoy.\\nIf not it sure was this one weird trick back in the day for ridding yourself of Indians that your doctor won't tell you.\",\n",
       " 'with friends like these who needs enemies and i am not talking about isreal/usa and the arabs',\n",
       " 'Qatar mediates while funding terrorism lol',\n",
       " 'Funny the obvious route for Israel above Syria and Iraq has been forgotten. It did air-to-air refueling over these areas for their attacks  on Iran, so what would have stoped them this time...?']"
      ]
     },
     "execution_count": 19,
     "metadata": {},
     "output_type": "execute_result"
    }
   ],
   "source": [
    "[c for c in df_low_engagement.loc[:5]['content']]"
   ]
  },
  {
   "cell_type": "markdown",
   "id": "fcd49fb5-d491-4bc0-b477-81c7f452348b",
   "metadata": {},
   "source": [
    "Use asyncio to run concurrent requests to LLM"
   ]
  },
  {
   "cell_type": "code",
   "execution_count": 34,
   "id": "b157a0f0-8622-4e39-b0c4-bda535ee5f64",
   "metadata": {},
   "outputs": [
    {
     "name": "stdout",
     "output_type": "stream",
     "text": [
      "Processing chunk 1 with 98 rows\n"
     ]
    },
    {
     "name": "stderr",
     "output_type": "stream",
     "text": [
      "Chunk 1: 100%|██████████████████████████████████████████████████████████████████████████████████████████████████████████████| 98/98 [01:33<00:00,  1.05it/s]\n"
     ]
    },
    {
     "name": "stdout",
     "output_type": "stream",
     "text": [
      "Processing chunk 2 with 98 rows\n"
     ]
    },
    {
     "name": "stderr",
     "output_type": "stream",
     "text": [
      "Chunk 2: 100%|██████████████████████████████████████████████████████████████████████████████████████████████████████████████| 98/98 [01:48<00:00,  1.11s/it]\n"
     ]
    },
    {
     "name": "stdout",
     "output_type": "stream",
     "text": [
      "Processing chunk 3 with 98 rows\n"
     ]
    },
    {
     "name": "stderr",
     "output_type": "stream",
     "text": [
      "Chunk 3: 100%|██████████████████████████████████████████████████████████████████████████████████████████████████████████████| 98/98 [01:56<00:00,  1.19s/it]\n"
     ]
    },
    {
     "name": "stdout",
     "output_type": "stream",
     "text": [
      "Processing chunk 4 with 98 rows\n"
     ]
    },
    {
     "name": "stderr",
     "output_type": "stream",
     "text": [
      "Chunk 4: 100%|██████████████████████████████████████████████████████████████████████████████████████████████████████████████| 98/98 [02:20<00:00,  1.43s/it]\n"
     ]
    },
    {
     "name": "stdout",
     "output_type": "stream",
     "text": [
      "Processing chunk 5 with 98 rows\n"
     ]
    },
    {
     "name": "stderr",
     "output_type": "stream",
     "text": [
      "Chunk 5: 100%|██████████████████████████████████████████████████████████████████████████████████████████████████████████████| 98/98 [02:16<00:00,  1.39s/it]\n"
     ]
    },
    {
     "name": "stdout",
     "output_type": "stream",
     "text": [
      "Processing chunk 6 with 97 rows\n"
     ]
    },
    {
     "name": "stderr",
     "output_type": "stream",
     "text": [
      "Chunk 6: 100%|██████████████████████████████████████████████████████████████████████████████████████████████████████████████| 97/97 [02:26<00:00,  1.51s/it]\n"
     ]
    },
    {
     "name": "stdout",
     "output_type": "stream",
     "text": [
      "Processing chunk 7 with 97 rows\n"
     ]
    },
    {
     "name": "stderr",
     "output_type": "stream",
     "text": [
      "Chunk 7: 100%|██████████████████████████████████████████████████████████████████████████████████████████████████████████████| 97/97 [02:38<00:00,  1.64s/it]\n"
     ]
    },
    {
     "name": "stdout",
     "output_type": "stream",
     "text": [
      "Processing chunk 8 with 97 rows\n"
     ]
    },
    {
     "name": "stderr",
     "output_type": "stream",
     "text": [
      "Chunk 8: 100%|██████████████████████████████████████████████████████████████████████████████████████████████████████████████| 97/97 [02:10<00:00,  1.34s/it]\n"
     ]
    },
    {
     "name": "stdout",
     "output_type": "stream",
     "text": [
      "Processing chunk 9 with 97 rows\n"
     ]
    },
    {
     "name": "stderr",
     "output_type": "stream",
     "text": [
      "Chunk 9: 100%|██████████████████████████████████████████████████████████████████████████████████████████████████████████████| 97/97 [02:14<00:00,  1.39s/it]"
     ]
    },
    {
     "name": "stdout",
     "output_type": "stream",
     "text": [
      "Processed 878 total comments\n"
     ]
    },
    {
     "name": "stderr",
     "output_type": "stream",
     "text": [
      "\n"
     ]
    }
   ],
   "source": [
    "import numpy as np\n",
    "import asyncio\n",
    "from tqdm.asyncio import tqdm\n",
    "\n",
    "# Split DataFrame into chunks of approximately 100 rows\n",
    "chunk_size = 100\n",
    "chunks = np.array_split(df_low_engagement['content'].tolist(), len(df_low_engagement) // chunk_size + 1)\n",
    "\n",
    "async def process_chunk(comments_list, chunk_index):\n",
    "    \"\"\"Process a single chunk of data\"\"\"\n",
    "    print(f\"Processing chunk {chunk_index + 1} with {len(comments_list)} rows\")\n",
    "    \n",
    "    max_concurrent = 10\n",
    "    semaphore = asyncio.Semaphore(max_concurrent)\n",
    "    async_relevance_filter = dspy.asyncify(relevance_filter)\n",
    "\n",
    "    async def process_single_case_with_limit(text: str):\n",
    "        \"\"\"Process a single test case with concurrency limit\"\"\"\n",
    "        async with semaphore:\n",
    "            result = await async_relevance_filter(\n",
    "                document_summary=video_summary, \n",
    "                comment_text=text\n",
    "            ) \n",
    "            return result\n",
    "\n",
    "    tasks = [\n",
    "        process_single_case_with_limit(comment_text) \n",
    "        for comment_text in comments_list  # Fixed: removed enumerate()\n",
    "    ]\n",
    "    \n",
    "    results = await tqdm.gather(*tasks, desc=f\"Chunk {chunk_index + 1}\")\n",
    "    return results\n",
    "\n",
    "# Process all chunks\n",
    "all_results = []\n",
    "for i, chunk in enumerate(chunks):\n",
    "    if len(chunk) > 0:  # Skip empty chunks\n",
    "        chunk_results = await process_chunk(chunk, i)\n",
    "        all_results.extend(chunk_results)\n",
    "        \n",
    "        # Optional: Add delay between chunks to be nice to the API\n",
    "        if i < len(chunks) - 1:  # Don't sleep after the last chunk\n",
    "            await asyncio.sleep(1)\n",
    "\n",
    "print(f\"Processed {len(all_results)} total comments\")"
   ]
  },
  {
   "cell_type": "code",
   "execution_count": 35,
   "id": "5cb3ca85-45e8-4116-b2f4-3cdb9e43c176",
   "metadata": {},
   "outputs": [
    {
     "data": {
      "text/plain": [
       "878"
      ]
     },
     "execution_count": 35,
     "metadata": {},
     "output_type": "execute_result"
    }
   ],
   "source": [
    "len(all_results)"
   ]
  },
  {
   "cell_type": "code",
   "execution_count": 36,
   "id": "9e23d360-39a3-4175-9bcb-8ba7ce054c02",
   "metadata": {},
   "outputs": [
    {
     "data": {
      "text/plain": [
       "Prediction(\n",
       "    reasoning=\"The comment makes a broad moral characterization of the broader Israel–Gaza war (“genocide”) rather than engaging with the video's specific topic: Israel’s reported strike in Doha, implications for Qatar’s mediation role, US involvement/sensors, air defenses, or regional diplomacy. It’s contextually related to the overarching conflict mentioned in the video but does not address any of the key analytical points.\",\n",
       "    score=3,\n",
       "    confidence=0.78\n",
       ")"
      ]
     },
     "execution_count": 36,
     "metadata": {},
     "output_type": "execute_result"
    }
   ],
   "source": [
    "all_results[0]"
   ]
  },
  {
   "cell_type": "markdown",
   "id": "506ba460-a537-4ad4-af48-86961e926835",
   "metadata": {},
   "source": [
    "Attaching score and confidence columns to dataframe"
   ]
  },
  {
   "cell_type": "code",
   "execution_count": 37,
   "id": "eab5d749-4a55-418f-976f-8aeaf3b9f085",
   "metadata": {},
   "outputs": [],
   "source": [
    "df_low_engagement = df_low_engagement.assign(relevance_score=[item.score for item in all_results])"
   ]
  },
  {
   "cell_type": "code",
   "execution_count": 38,
   "id": "142b8f75-0443-4d09-873e-0014372c3032",
   "metadata": {},
   "outputs": [],
   "source": [
    "df_low_engagement = df_low_engagement.assign(relevance_score_confidence=[item.confidence for item in all_results])"
   ]
  },
  {
   "cell_type": "code",
   "execution_count": 39,
   "id": "eb8a57c1-e309-4577-a9a0-becf92f0034b",
   "metadata": {},
   "outputs": [
    {
     "name": "stdout",
     "output_type": "stream",
     "text": [
      "<class 'pandas.core.frame.DataFrame'>\n",
      "Index: 878 entries, 1 to 979\n",
      "Data columns (total 6 columns):\n",
      " #   Column                      Non-Null Count  Dtype  \n",
      "---  ------                      --------------  -----  \n",
      " 0   content                     878 non-null    object \n",
      " 1   published_at                878 non-null    object \n",
      " 2   likes                       878 non-null    int64  \n",
      " 3   replies                     878 non-null    int64  \n",
      " 4   relevance_score             878 non-null    int64  \n",
      " 5   relevance_score_confidence  878 non-null    float64\n",
      "dtypes: float64(1), int64(3), object(2)\n",
      "memory usage: 80.3+ KB\n"
     ]
    }
   ],
   "source": [
    "df_low_engagement.info()"
   ]
  },
  {
   "cell_type": "markdown",
   "id": "dd832d00-9a89-48e3-a3d6-016f53f3ec71",
   "metadata": {},
   "source": [
    "Make a backup to not run API calls again"
   ]
  },
  {
   "cell_type": "code",
   "execution_count": 40,
   "id": "ed752030-e205-4ebe-881e-f97d42fcee8a",
   "metadata": {},
   "outputs": [],
   "source": [
    "df_low_engagement.to_csv('data/df_low_engagement.csv', index=False, encoding='utf-8')"
   ]
  },
  {
   "cell_type": "code",
   "execution_count": 51,
   "id": "0dcef51c-a999-446e-8232-6632991ec7a5",
   "metadata": {},
   "outputs": [],
   "source": [
    "df_junk_comments = df_low_engagement[(df_low_engagement['relevance_score'] < 3) & (df_low_engagement['relevance_score_confidence'] > 0.7)]"
   ]
  },
  {
   "cell_type": "code",
   "execution_count": 52,
   "id": "8fc2f7c4-b90b-4006-8208-fb5ea6057c1e",
   "metadata": {},
   "outputs": [],
   "source": [
    "df_relevant_comments = df_low_engagement[(df_low_engagement['relevance_score'] >= 3) & (df_low_engagement['relevance_score_confidence'] > 0.7)]"
   ]
  },
  {
   "cell_type": "markdown",
   "id": "90473d8a-283c-4ddf-9814-7bb175d3c98c",
   "metadata": {},
   "source": [
    "### Let's explore irrelevant comments by looking at sample"
   ]
  },
  {
   "cell_type": "code",
   "execution_count": 54,
   "id": "75b888b5-4704-487a-95ec-f1d69784252a",
   "metadata": {},
   "outputs": [
    {
     "data": {
      "text/plain": [
       "159"
      ]
     },
     "execution_count": 54,
     "metadata": {},
     "output_type": "execute_result"
    }
   ],
   "source": [
    "len(df_junk_comments)"
   ]
  },
  {
   "cell_type": "code",
   "execution_count": 64,
   "id": "7b19353f-3078-485b-953a-772221d1590c",
   "metadata": {},
   "outputs": [
    {
     "data": {
      "text/plain": [
       "['your framing is bad on this.',\n",
       " 'Bibi said Charlie Kirk was Hamas',\n",
       " 'Israel, for long, has been a racist state, but now, under Shaitanyahu, it is a rogue, terrorist state!\\nIt is now upon the world to hold it responsible/accountable & take it down! But, alas, we all know how this will play out............',\n",
       " \"You're not objective when you talk about Israel and Russia. Portraying Russia as a boogeyman and giving excuses for Israel or Azerbaijan\",\n",
       " ':face-blue-smiling::face-blue-smiling:',\n",
       " 'Teşekkürler Şirvan.\\nsevgiler',\n",
       " 'People who are surprise by these brutality, Its all mention and allow by their Abrahmic gods \"kill all innocent people and return back to kill remaining people\" Its all written by their so called GODS',\n",
       " \"Take away the Golan hights from that map, it's an occupied area.\",\n",
       " 'the state sponsor of ep$tein is a t@rrorist m@fia. that cancerous people have only bribery and blackmail. They selected Barabbas and will suffer the curse for all eternity.',\n",
       " 'Nice reporting! Keep it up.',\n",
       " 'BIBI IS GOD!🇮🇱🇮🇱🇮🇱',\n",
       " 'Know jews no peace. No jews know peace.',\n",
       " '🧸',\n",
       " 'This is why I subscribe to this channel. Outstanding work in the short time needed to make it.',\n",
       " '❤❤❤',\n",
       " 'America is a puppet to the highest bidder for the next 4 years.',\n",
       " '\"Nearly half are right learning\"\\n\\nSo half are not right leaning. Sounds balanced, contrary to your claim.',\n",
       " 'After WW-2 Israel was created by the Western Elite\\'s, \"Military-Industrial-Banking-Mob-Media Complex\" \\nas their tool, to first control the Near East, then the world.',\n",
       " 'Super interesting.',\n",
       " 'there are only 300,000 qatari nationals,  rest of the 3m population are expatriates from India, Pakistan, Bangladesh.']"
      ]
     },
     "execution_count": 64,
     "metadata": {},
     "output_type": "execute_result"
    }
   ],
   "source": [
    "df_junk_comments.sample(20)['content'].tolist()"
   ]
  },
  {
   "cell_type": "markdown",
   "id": "aef197c2-bc88-49ba-9d42-564d83640204",
   "metadata": {},
   "source": [
    "### Now let's take a look at revevant comments sample"
   ]
  },
  {
   "cell_type": "code",
   "execution_count": 66,
   "id": "c4926924-b63e-4f88-aa80-947f42b3bcc1",
   "metadata": {},
   "outputs": [
    {
     "data": {
      "text/plain": [
       "546"
      ]
     },
     "execution_count": 66,
     "metadata": {},
     "output_type": "execute_result"
    }
   ],
   "source": [
    "len(df_relevant_comments)"
   ]
  },
  {
   "cell_type": "code",
   "execution_count": 65,
   "id": "304cb31a-9423-41c6-bf72-691b692b538d",
   "metadata": {},
   "outputs": [
    {
     "data": {
      "text/plain": [
       "[\"If anything shows you that Israel is the one who refuses to have peace in the Middle East, it's that their very long history of murdering or attempting to murder the people trying to broker peace.. They started these political assassinations with the killing a UN member back in 48. Israel has always been the number one terrorist faction of the Middle East its entire existance and the Zionist groups who created Isreal were the ones to first use terrorism in the middle east.\",\n",
       " \"I feel bad that you're bias is showing in this video but this is a war with an unrepentant enemy only happens on unconditional surrender will a ceasefire happen everything else the Killing needs to continue until the last man is standing\",\n",
       " 'Iran ordered it\\nHamas started it\\nGazans cheered it\\nQatar fumbled it \\nIsrael is ending it',\n",
       " 'Its dangerous to be the enemy of the US but being its friend is fatal',\n",
       " 'them arab leaders have fuked up = america is the cause of all the chaos in the area = they have made the whole area into slaves',\n",
       " 'Those defence system purchased by Qatar at the Bazaar are remotely controlled by the Khazars in Tel-Aviv.',\n",
       " 'W israel',\n",
       " 'Surely, they just go over syria and refuel there',\n",
       " 'For years, Qatar has been harbouring terrorists... there!',\n",
       " 'What are the Turkish troops doing in Qatar? Are they a permanent presence like the US and UK?\\n\\nI ask for interest. No judgement. I have been to Doha many times.',\n",
       " \"8:50 The rabid Zionist Apartheid state & it's bootlicker backer Uncle Sam are frustrated with Qatar & Hamas when Satanyahu has virtually sabotaged every mediation effort & Don Zion used every reconciliation opportunity as a deception for IOF to strike Iran & Hamas? What a weird world we are living in where words have truly lost their actual meanings.\",\n",
       " 'Look, in short Qatar is on its own. If you want to Scream like a Madman about Freedom and want to be deployed in the Middle East. Be my Guest.',\n",
       " \"I wonder if it was indeed done with Quatar's consent.\",\n",
       " 'But.. quatar is the muslim brotherhood.. is hamas.. there is no real differentiator? And they do feel similarly attached to inked paper as the russians feel. You can have all the treaties- but when the perfect man, the prophet just breaks them when rearmed, thats what you get. Quatari advisors - disguised as press often enough took directly part in the conflict and suppressed dissenting voices in ghaza.',\n",
       " 'Hamas = genocidal  bloodthirsty terrorist who follow no rules other than a sworn nightmare to kill all Jews living in Israel.   Their death makes the world safer by sending a message to any would be medieval,  intolerant dictatorial religious fanatics the world over that hostage taking does not pay.  Their survival puts the free liberal world at risk.  Lets not forget who the bad guys are here.',\n",
       " \"I don't see how that iran attack damaged the value of american security guarantees. Israel->hamas strike *might*, but not if everyone knew beforehand as you speculated in this video. The saber rattling is for their own people and their neighbors. We will know if qatar pulls its pants up and strikes back at israel.\",\n",
       " 'Extremely weird how can Israel bomb everything and everyone without consequences, yet governments specifically in the EU are afraid to speak out against them, my Portuguese government is an example. The Israeli/Zionist government/machine has no interest in peace, they just want to keep their expansionist ideology, oh well... Then come crying that the far right in Europe is growing.',\n",
       " 'One step closer to restoring the Ottoman Empire thanks to the Jews, ironic.',\n",
       " '\"Safe haven for terrorists...\" bleats of International Law are negated with this; he said it in the commentary. If Qatar hid Hamas after 10/7, congratulations, they have chosen a side and are now party to the conflict. Qatar has laundered 10s of billions of dollars of aid money that should have went to their Palestinian bretheren. Stealing aid money for refugees? Can\\'t get any lower than that low. Can\\'t cry about it when it blows up in their face, FAFO.\\n International law bookshelves groan heavy with laws against terrorism, especially how it is financed I mean, for f sake, it\\'s right there in the name:  \"terrorism.\" \\nAnd people think another 10 days of negotiations out of the over 700 we\\'ve had since the attack would finally do the trick? Seriously?',\n",
       " 'Wake up call to Arabs Unite or perish one by one.']"
      ]
     },
     "execution_count": 65,
     "metadata": {},
     "output_type": "execute_result"
    }
   ],
   "source": [
    "df_relevant_comments.sample(20)['content'].tolist()"
   ]
  },
  {
   "cell_type": "code",
   "execution_count": 67,
   "id": "7f46c57c-6be8-4ce9-b1b2-520be557338e",
   "metadata": {},
   "outputs": [
    {
     "name": "stdout",
     "output_type": "stream",
     "text": [
      "16.21% of all comments are irrelevant\n"
     ]
    }
   ],
   "source": [
    "size_share = len(df_junk_comments) / len(df) * 100\n",
    "print(f\"{round(size_share, 2)}% of all comments are irrelevant\")"
   ]
  },
  {
   "cell_type": "markdown",
   "id": "c5a1b082-7abd-4232-b2de-2c73c33f1dbc",
   "metadata": {},
   "source": [
    "## Constructing dataframe that contains only relevant comments"
   ]
  },
  {
   "cell_type": "code",
   "execution_count": 80,
   "id": "2e5def35-502d-40e5-a63e-806cc6e37889",
   "metadata": {},
   "outputs": [],
   "source": [
    "all_relevant_comments = pd.concat([df_verified, df_relevant_comments[df_verified.columns]], ignore_index=True)"
   ]
  },
  {
   "cell_type": "code",
   "execution_count": 81,
   "id": "b12f076c-62b5-44a8-8be9-d3ffc3e39f36",
   "metadata": {},
   "outputs": [
    {
     "data": {
      "text/plain": [
       "649"
      ]
     },
     "execution_count": 81,
     "metadata": {},
     "output_type": "execute_result"
    }
   ],
   "source": [
    "len(all_relevant_comments)"
   ]
  },
  {
   "cell_type": "code",
   "execution_count": 82,
   "id": "b836fcd5-bf1b-4cc9-81de-8c184cff6b81",
   "metadata": {},
   "outputs": [],
   "source": [
    "all_relevant_comments.to_csv('data/all_relevant_comments.csv', index=False, encoding='utf-8')"
   ]
  },
  {
   "cell_type": "code",
   "execution_count": 83,
   "id": "b5f95891-5fe1-4e26-a5a9-156594da6407",
   "metadata": {},
   "outputs": [
    {
     "name": "stdout",
     "output_type": "stream",
     "text": [
      "<class 'pandas.core.frame.DataFrame'>\n",
      "RangeIndex: 649 entries, 0 to 648\n",
      "Data columns (total 4 columns):\n",
      " #   Column        Non-Null Count  Dtype \n",
      "---  ------        --------------  ----- \n",
      " 0   content       649 non-null    object\n",
      " 1   published_at  649 non-null    object\n",
      " 2   likes         649 non-null    int64 \n",
      " 3   replies       649 non-null    int64 \n",
      "dtypes: int64(2), object(2)\n",
      "memory usage: 20.4+ KB\n"
     ]
    }
   ],
   "source": [
    "all_relevant_comments.info()"
   ]
  },
  {
   "cell_type": "markdown",
   "id": "51fbb72f-c68e-42e8-9b86-f2b81fef9535",
   "metadata": {},
   "source": [
    "## Multi-dimensional analysis for relevant comments"
   ]
  },
  {
   "cell_type": "code",
   "execution_count": 87,
   "id": "7fd53fe0-b847-4dee-b8a6-07d61dfae705",
   "metadata": {},
   "outputs": [],
   "source": [
    "from enum import Enum\n",
    "\n",
    "class VideoTopic(str, Enum):\n",
    "    \"\"\"Predefined topics from the video transcript\"\"\"\n",
    "    ISRAEL = \"Israel\"\n",
    "    QATAR = \"Qatar\"\n",
    "    HAMAS = \"Hamas\"\n",
    "    UNITED_STATES = \"United States\"\n",
    "    TRUMP = \"Trump\"\n",
    "    NETANYAHU = \"Netanyahu\"\n",
    "    ISRAELI_STRIKE = \"Israeli strike\"\n",
    "    QATAR_MEDIATION = \"Qatar mediation\"\n",
    "    GAZA_CONFLICT = \"Gaza conflict\"\n",
    "    US_INVOLVEMENT = \"US involvement\"\n",
    "    CEASEFIRE_NEGOTIATIONS = \"Ceasefire negotiations\"\n",
    "    AIR_DEFENSE = \"Air defense systems\"\n",
    "    F35_AIRCRAFT = \"F-35 aircraft\"\n",
    "    DIPLOMATIC_RELATIONS = \"Diplomatic relations\""
   ]
  },
  {
   "cell_type": "code",
   "execution_count": 88,
   "id": "25cda7dc-233e-479b-9aa3-d348945cebea",
   "metadata": {},
   "outputs": [],
   "source": [
    "from typing import Literal, List, Optional\n",
    "\n",
    "class ClassifyComment(dspy.Signature):\n",
    "    \"\"\"\n",
    "    Analyze and classify a YouTube comment in relation to a video about Israel's strike on Qatar.\n",
    "    \n",
    "    This signature performs multi-dimensional analysis including topic identification,\n",
    "    bias detection, and qualitative scoring of the comment's\n",
    "    intellectual and emotional characteristics.\n",
    "    \"\"\"\n",
    "    \n",
    "    # Input Fields\n",
    "    document_summary: str = dspy.InputField(\n",
    "        desc=\"Comprehensive summary of the video/document content providing context for analysis\"\n",
    "    )\n",
    "    \n",
    "    comment_text: str = dspy.InputField(\n",
    "        desc=\"The full text of the YouTube comment to be analyzed\"\n",
    "    )\n",
    "    \n",
    "    # Output Fields with Enhanced Type Constraints\n",
    "    \n",
    "    # 1. Topic Tags - Multiple Selection\n",
    "    mentioned_topics: List[VideoTopic] = dspy.OutputField(\n",
    "        desc=\"List of all topics from the video that are mentioned or referenced in the comment. Select from predefined VideoTopic enum values only.\"\n",
    "    )\n",
    "    \n",
    "    additional_themes: Optional[List[str]] = dspy.OutputField(\n",
    "        desc=\"Any significant themes discussed in the comment that aren't in the predefined topic list (max 3 themes)\"\n",
    "    )\n",
    "\n",
    "\n",
    "    # 2. Multi-dimensional Attitude Assessment\n",
    "    attitude_towards_israel: Optional[int] = dspy.OutputField(\n",
    "        desc=\"Author's attitude towards Israel on 1-10 scale: 1=extreme hatred/condemnation, 3=strong criticism, 5=neutral/balanced, 7=supportive, 10=absolute unconditional support. Return None if Israel not mentioned/referenced.\"\n",
    "    )\n",
    "    \n",
    "    attitude_towards_us: Optional[int] = dspy.OutputField(\n",
    "        desc=\"Author's attitude towards United States on 1-10 scale: 1=extreme anti-American sentiment, 3=strong criticism of US policy, 5=neutral/balanced view, 7=generally positive, 10=complete support for US actions. Return None if US not mentioned/referenced.\"\n",
    "    )\n",
    "    \n",
    "    attitude_towards_qatar: Optional[int] = dspy.OutputField(\n",
    "        desc=\"Author's attitude towards Qatar on 1-10 scale: 1=harsh condemnation, 3=critical of Qatar's role, 5=neutral/factual, 7=sympathetic to Qatar's position, 10=strong defense of Qatar. Return None if Qatar not mentioned/referenced.\"\n",
    "    )\n",
    "    \n",
    "    attitude_towards_hamas: Optional[int] = dspy.OutputField(\n",
    "        desc=\"Author's attitude towards Hamas on 1-10 scale: 1=complete condemnation as terrorists, 3=strong criticism, 5=neutral/analytical, 7=sympathetic/understanding, 10=full support/legitimization. Return None if Hamas not mentioned/referenced.\"\n",
    "    )\n",
    "    \n",
    "    attitude_confidence: float = dspy.OutputField(\n",
    "        desc=\"Overall confidence in attitude assessments from 0.0 (very uncertain due to ambiguous language) to 1.0 (crystal clear position statements)\"\n",
    "    )\n",
    "    \n",
    "    attitude_indicators: List[str] = dspy.OutputField(\n",
    "        desc=\"Specific phrases or arguments that reveal attitudes toward each actor (max 5 most telling indicators)\"\n",
    "    )\n",
    "    \n",
    "    # 4. Intelligence/Education Score\n",
    "    intelligence_score: int = dspy.OutputField(\n",
    "        desc=\"Assessment of intellectual sophistication on 1-5 scale: 1=very poor (bad grammar, no logic), 2=below average, 3=average, 4=above average (good arguments), 5=highly sophisticated (excellent reasoning with evidence)\"\n",
    "    )\n",
    "    \n",
    "    intelligence_markers: List[str] = dspy.OutputField(\n",
    "        desc=\"Specific indicators of intelligence level: proper_grammar, logical_structure, evidence_based, domain_knowledge, nuanced_thinking, critical_analysis\"\n",
    "    )\n",
    "    \n",
    "    # 5. Insightfulness Score\n",
    "    insightfulness_score: int = dspy.OutputField(\n",
    "        desc=\"Value added to discussion on 1-5 scale: 1=no value (spam/repetitive), 2=minimal value, 3=standard observation, 4=valuable perspective, 5=exceptional insight (novel analysis/important context)\"\n",
    "    )\n",
    "    \n",
    "    insight_type: Literal[\n",
    "        'basic_opinion',\n",
    "        'personal_experience', \n",
    "        'factual_correction',\n",
    "        'additional_context',\n",
    "        'expert_knowledge',\n",
    "        'counter_argument',\n",
    "        'historical_parallel',\n",
    "        'predictive_analysis',\n",
    "        'systemic_critique'\n",
    "    ] = dspy.OutputField(\n",
    "        desc=\"Category of insight provided by the comment\"\n",
    "    )\n",
    "    \n",
    "    # 6. Emotional Score\n",
    "    emotional_score: int = dspy.OutputField(\n",
    "        desc=\"Emotional intensity on 1-5 scale: 1=completely neutral/factual, 2=mild emotion, 3=moderate emotion, 4=strong emotion, 5=extreme emotion/inflammatory\"\n",
    "    )"
   ]
  },
  {
   "cell_type": "markdown",
   "id": "31bb53c0-b856-435b-af33-bda8d2903395",
   "metadata": {},
   "source": [
    "## Test reasoning"
   ]
  },
  {
   "cell_type": "code",
   "execution_count": 107,
   "id": "c79cc66f-64cf-4d1f-811a-6b4b00286b52",
   "metadata": {},
   "outputs": [],
   "source": [
    "classify = dspy.ChainOfThought(ClassifyComment)"
   ]
  },
  {
   "cell_type": "code",
   "execution_count": 108,
   "id": "9a20ab6b-08b9-4ac1-8872-e4ffb4b4b45b",
   "metadata": {},
   "outputs": [],
   "source": [
    "async_classify = dspy.asyncify(classify)"
   ]
  },
  {
   "cell_type": "code",
   "execution_count": 109,
   "id": "c284d312-6c85-4cd4-9331-7016499e3247",
   "metadata": {},
   "outputs": [
    {
     "data": {
      "text/plain": [
       "'Israel didn’t strike Qatar—it struck the leadership of Hamas that was taking refuge in Qatar. Qatar does sponsor terrorism, by the way.'"
      ]
     },
     "execution_count": 109,
     "metadata": {},
     "output_type": "execute_result"
    }
   ],
   "source": [
    "all_relevant_comments.loc[1].content"
   ]
  },
  {
   "cell_type": "code",
   "execution_count": 110,
   "id": "4fe4a867-8efd-4255-9367-fa83711ede8e",
   "metadata": {},
   "outputs": [
    {
     "name": "stdout",
     "output_type": "stream",
     "text": [
      "Prediction(\n",
      "    reasoning='The commenter reframes the event as a targeted strike on Hamas leaders rather than an attack on Qatar, signaling support for Israel’s action. They strongly criticize Qatar by asserting it sponsors terrorism and imply Hamas is a legitimate target, reflecting negative attitudes toward both Qatar and Hamas. The US is not mentioned.',\n",
      "    mentioned_topics=[<VideoTopic.ISRAEL: 'Israel'>, <VideoTopic.QATAR: 'Qatar'>, <VideoTopic.HAMAS: 'Hamas'>, <VideoTopic.ISRAELI_STRIKE: 'Israeli strike'>],\n",
      "    additional_themes=['state_sponsorship_of_terrorism', 'safe_haven_for_militants'],\n",
      "    attitude_towards_israel=7,\n",
      "    attitude_towards_us=None,\n",
      "    attitude_towards_qatar=2,\n",
      "    attitude_towards_hamas=3,\n",
      "    attitude_confidence=0.86,\n",
      "    attitude_indicators=['Israel didn’t strike Qatar—it struck the leadership of Hamas', 'taking refuge in Qatar', 'Qatar does sponsor terrorism'],\n",
      "    intelligence_score=3,\n",
      "    intelligence_markers=['proper_grammar', 'logical_structure', 'critical_analysis'],\n",
      "    insightfulness_score=3,\n",
      "    insight_type='counter_argument',\n",
      "    emotional_score=3\n",
      ")\n"
     ]
    }
   ],
   "source": [
    "result = classify(document_summary=video_summary, comment_text=all_relevant_comments.loc[1].content)\n",
    "pprint(result)"
   ]
  },
  {
   "cell_type": "markdown",
   "id": "d9bccf31-27d3-4ef6-bf35-78da7a4ed769",
   "metadata": {},
   "source": [
    "### Let's see the prompt to LLM produced by DSPY"
   ]
  },
  {
   "cell_type": "code",
   "execution_count": 113,
   "id": "ef79f605-beca-4b04-b380-5e413c078874",
   "metadata": {},
   "outputs": [
    {
     "data": {
      "text/markdown": [
       "Your input fields are:\n",
       "1. `document_summary` (str): Comprehensive summary of the video/document content providing context for analysis\n",
       "2. `comment_text` (str): The full text of the YouTube comment to be analyzed\n",
       "Your output fields are:\n",
       "1. `reasoning` (str): \n",
       "2. `mentioned_topics` (list[VideoTopic]): List of all topics from the video that are mentioned or referenced in the comment. Select from predefined VideoTopic enum values only.\n",
       "3. `additional_themes` (Union[list[str], NoneType]): Any significant themes discussed in the comment that aren't in the predefined topic list (max 3 themes)\n",
       "4. `attitude_towards_israel` (Union[int, NoneType]): Author's attitude towards Israel on 1-10 scale: 1=extreme hatred/condemnation, 3=strong criticism, 5=neutral/balanced, 7=supportive, 10=absolute unconditional support. Return None if Israel not mentioned/referenced.\n",
       "5. `attitude_towards_us` (Union[int, NoneType]): Author's attitude towards United States on 1-10 scale: 1=extreme anti-American sentiment, 3=strong criticism of US policy, 5=neutral/balanced view, 7=generally positive, 10=complete support for US actions. Return None if US not mentioned/referenced.\n",
       "6. `attitude_towards_qatar` (Union[int, NoneType]): Author's attitude towards Qatar on 1-10 scale: 1=harsh condemnation, 3=critical of Qatar's role, 5=neutral/factual, 7=sympathetic to Qatar's position, 10=strong defense of Qatar. Return None if Qatar not mentioned/referenced.\n",
       "7. `attitude_towards_hamas` (Union[int, NoneType]): Author's attitude towards Hamas on 1-10 scale: 1=complete condemnation as terrorists, 3=strong criticism, 5=neutral/analytical, 7=sympathetic/understanding, 10=full support/legitimization. Return None if Hamas not mentioned/referenced.\n",
       "8. `attitude_confidence` (float): Overall confidence in attitude assessments from 0.0 (very uncertain due to ambiguous language) to 1.0 (crystal clear position statements)\n",
       "9. `attitude_indicators` (list[str]): Specific phrases or arguments that reveal attitudes toward each actor (max 5 most telling indicators)\n",
       "10. `intelligence_score` (int): Assessment of intellectual sophistication on 1-5 scale: 1=very poor (bad grammar, no logic), 2=below average, 3=average, 4=above average (good arguments), 5=highly sophisticated (excellent reasoning with evidence)\n",
       "11. `intelligence_markers` (list[str]): Specific indicators of intelligence level: proper_grammar, logical_structure, evidence_based, domain_knowledge, nuanced_thinking, critical_analysis\n",
       "12. `insightfulness_score` (int): Value added to discussion on 1-5 scale: 1=no value (spam/repetitive), 2=minimal value, 3=standard observation, 4=valuable perspective, 5=exceptional insight (novel analysis/important context)\n",
       "13. `insight_type` (Literal['basic_opinion', 'personal_experience', 'factual_correction', 'additional_context', 'expert_knowledge', 'counter_argument', 'historical_parallel', 'predictive_analysis', 'systemic_critique']): Category of insight provided by the comment\n",
       "14. `emotional_score` (int): Emotional intensity on 1-5 scale: 1=completely neutral/factual, 2=mild emotion, 3=moderate emotion, 4=strong emotion, 5=extreme emotion/inflammatory\n",
       "All interactions will be structured in the following way, with the appropriate values filled in.\n",
       "\n",
       "[[ ## document_summary ## ]]\n",
       "{document_summary}\n",
       "\n",
       "[[ ## comment_text ## ]]\n",
       "{comment_text}\n",
       "\n",
       "[[ ## reasoning ## ]]\n",
       "{reasoning}\n",
       "\n",
       "[[ ## mentioned_topics ## ]]\n",
       "{mentioned_topics}        # note: the value you produce must adhere to the JSON schema: {\"type\": \"array\", \"$defs\": {\"VideoTopic\": {\"type\": \"string\", \"description\": \"Predefined topics from the video transcript\", \"enum\": [\"Israel\", \"Qatar\", \"Hamas\", \"United States\", \"Trump\", \"Netanyahu\", \"Israeli strike\", \"Qatar mediation\", \"Gaza conflict\", \"US involvement\", \"Ceasefire negotiations\", \"Air defense systems\", \"F-35 aircraft\", \"Diplomatic relations\"], \"title\": \"VideoTopic\"}}, \"items\": {\"$ref\": \"#/$defs/VideoTopic\"}}\n",
       "\n",
       "[[ ## additional_themes ## ]]\n",
       "{additional_themes}        # note: the value you produce must adhere to the JSON schema: {\"anyOf\": [{\"type\": \"array\", \"items\": {\"type\": \"string\"}}, {\"type\": \"null\"}]}\n",
       "\n",
       "[[ ## attitude_towards_israel ## ]]\n",
       "{attitude_towards_israel}        # note: the value you produce must adhere to the JSON schema: {\"anyOf\": [{\"type\": \"integer\"}, {\"type\": \"null\"}]}\n",
       "\n",
       "[[ ## attitude_towards_us ## ]]\n",
       "{attitude_towards_us}        # note: the value you produce must adhere to the JSON schema: {\"anyOf\": [{\"type\": \"integer\"}, {\"type\": \"null\"}]}\n",
       "\n",
       "[[ ## attitude_towards_qatar ## ]]\n",
       "{attitude_towards_qatar}        # note: the value you produce must adhere to the JSON schema: {\"anyOf\": [{\"type\": \"integer\"}, {\"type\": \"null\"}]}\n",
       "\n",
       "[[ ## attitude_towards_hamas ## ]]\n",
       "{attitude_towards_hamas}        # note: the value you produce must adhere to the JSON schema: {\"anyOf\": [{\"type\": \"integer\"}, {\"type\": \"null\"}]}\n",
       "\n",
       "[[ ## attitude_confidence ## ]]\n",
       "{attitude_confidence}        # note: the value you produce must be a single float value\n",
       "\n",
       "[[ ## attitude_indicators ## ]]\n",
       "{attitude_indicators}        # note: the value you produce must adhere to the JSON schema: {\"type\": \"array\", \"items\": {\"type\": \"string\"}}\n",
       "\n",
       "[[ ## intelligence_score ## ]]\n",
       "{intelligence_score}        # note: the value you produce must be a single int value\n",
       "\n",
       "[[ ## intelligence_markers ## ]]\n",
       "{intelligence_markers}        # note: the value you produce must adhere to the JSON schema: {\"type\": \"array\", \"items\": {\"type\": \"string\"}}\n",
       "\n",
       "[[ ## insightfulness_score ## ]]\n",
       "{insightfulness_score}        # note: the value you produce must be a single int value\n",
       "\n",
       "[[ ## insight_type ## ]]\n",
       "{insight_type}        # note: the value you produce must exactly match (no extra characters) one of: basic_opinion; personal_experience; factual_correction; additional_context; expert_knowledge; counter_argument; historical_parallel; predictive_analysis; systemic_critique\n",
       "\n",
       "[[ ## emotional_score ## ]]\n",
       "{emotional_score}        # note: the value you produce must be a single int value\n",
       "\n",
       "[[ ## completed ## ]]\n",
       "In adhering to this structure, your objective is: \n",
       "        Analyze and classify a YouTube comment in relation to a video about Israel's strike on Qatar.\n",
       "        \n",
       "        This signature performs multi-dimensional analysis including topic identification,\n",
       "        bias detection, and qualitative scoring of the comment's\n",
       "        intellectual and emotional characteristics."
      ],
      "text/plain": [
       "<IPython.core.display.Markdown object>"
      ]
     },
     "execution_count": 113,
     "metadata": {},
     "output_type": "execute_result"
    }
   ],
   "source": [
    "Markdown(classify.history[0]['messages'][0]['content'])"
   ]
  },
  {
   "cell_type": "markdown",
   "id": "3ed2f8d8-78c1-42cc-81f2-20d92ec5bb1a",
   "metadata": {},
   "source": [
    "## Classify all comments"
   ]
  },
  {
   "cell_type": "code",
   "execution_count": 115,
   "id": "18443e8b-c3ce-4026-aa28-993f08dca373",
   "metadata": {},
   "outputs": [],
   "source": [
    "async def run_classifier_in_chunks(inputs_list, async_classify, chunk_size = 100):\n",
    "    \n",
    "    chunks = np.array_split(inputs_list, len(inputs_list) // chunk_size + 1)\n",
    "    \n",
    "    async def process_chunk(comments_list, chunk_index):\n",
    "        \"\"\"Process a single chunk of data\"\"\"\n",
    "        print(f\"Processing chunk {chunk_index + 1} with {len(comments_list)} rows\")\n",
    "        \n",
    "        max_concurrent = 10\n",
    "        semaphore = asyncio.Semaphore(max_concurrent)\n",
    "    \n",
    "        async def process_single_case_with_limit(text: str):\n",
    "            \"\"\"Process a single test case with concurrency limit\"\"\"\n",
    "            async with semaphore:\n",
    "                result = await async_classify(\n",
    "                    document_summary=video_summary, \n",
    "                    comment_text=text\n",
    "                ) \n",
    "                return result\n",
    "    \n",
    "        tasks = [\n",
    "            process_single_case_with_limit(comment_text) \n",
    "            for comment_text in comments_list  # Fixed: removed enumerate()\n",
    "        ]\n",
    "        \n",
    "        results = await tqdm.gather(*tasks, desc=f\"Chunk {chunk_index + 1}\")\n",
    "        return results\n",
    "    \n",
    "    # Process all chunks\n",
    "    all_results = []\n",
    "    for i, chunk in enumerate(chunks):\n",
    "        if len(chunk) > 0:  # Skip empty chunks\n",
    "            chunk_results = await process_chunk(chunk, i)\n",
    "            all_results.extend(chunk_results)\n",
    "            \n",
    "            # Optional: Add delay between chunks to be nice to the API\n",
    "            if i < len(chunks) - 1:  # Don't sleep after the last chunk\n",
    "                await asyncio.sleep(1)\n",
    "    \n",
    "    print(f\"Processed {len(all_results)} total comments\")\n",
    "    return all_results"
   ]
  },
  {
   "cell_type": "code",
   "execution_count": 117,
   "id": "cff4b5e7-3628-4893-bc49-4587848bb1c9",
   "metadata": {},
   "outputs": [
    {
     "name": "stdout",
     "output_type": "stream",
     "text": [
      "Processing chunk 1 with 93 rows\n"
     ]
    },
    {
     "name": "stderr",
     "output_type": "stream",
     "text": [
      "Chunk 1: 100%|██████████████████████████████████████████████████████████████████████████████████████████████████████████████| 93/93 [04:28<00:00,  2.88s/it]\n"
     ]
    },
    {
     "name": "stdout",
     "output_type": "stream",
     "text": [
      "Processing chunk 2 with 93 rows\n"
     ]
    },
    {
     "name": "stderr",
     "output_type": "stream",
     "text": [
      "Chunk 2: 100%|██████████████████████████████████████████████████████████████████████████████████████████████████████████████| 93/93 [04:18<00:00,  2.78s/it]\n"
     ]
    },
    {
     "name": "stdout",
     "output_type": "stream",
     "text": [
      "Processing chunk 3 with 93 rows\n"
     ]
    },
    {
     "name": "stderr",
     "output_type": "stream",
     "text": [
      "Chunk 3: 100%|██████████████████████████████████████████████████████████████████████████████████████████████████████████████| 93/93 [04:12<00:00,  2.72s/it]\n"
     ]
    },
    {
     "name": "stdout",
     "output_type": "stream",
     "text": [
      "Processing chunk 4 with 93 rows\n"
     ]
    },
    {
     "name": "stderr",
     "output_type": "stream",
     "text": [
      "Chunk 4: 100%|██████████████████████████████████████████████████████████████████████████████████████████████████████████████| 93/93 [05:27<00:00,  3.52s/it]\n"
     ]
    },
    {
     "name": "stdout",
     "output_type": "stream",
     "text": [
      "Processing chunk 5 with 93 rows\n"
     ]
    },
    {
     "name": "stderr",
     "output_type": "stream",
     "text": [
      "Chunk 5: 100%|██████████████████████████████████████████████████████████████████████████████████████████████████████████████| 93/93 [06:22<00:00,  4.11s/it]\n"
     ]
    },
    {
     "name": "stdout",
     "output_type": "stream",
     "text": [
      "Processing chunk 6 with 92 rows\n"
     ]
    },
    {
     "name": "stderr",
     "output_type": "stream",
     "text": [
      "Chunk 6: 100%|██████████████████████████████████████████████████████████████████████████████████████████████████████████████| 92/92 [23:02<00:00, 15.03s/it]\n"
     ]
    },
    {
     "name": "stdout",
     "output_type": "stream",
     "text": [
      "Processing chunk 7 with 92 rows\n"
     ]
    },
    {
     "name": "stderr",
     "output_type": "stream",
     "text": [
      "Chunk 7: 100%|██████████████████████████████████████████████████████████████████████████████████████████████████████████████| 92/92 [14:51<00:00,  9.69s/it]"
     ]
    },
    {
     "name": "stdout",
     "output_type": "stream",
     "text": [
      "Processed 649 total comments\n"
     ]
    },
    {
     "name": "stderr",
     "output_type": "stream",
     "text": [
      "\n"
     ]
    }
   ],
   "source": [
    "all_results = await run_classifier_in_chunks(all_relevant_comments['content'].tolist(), async_classify, 100)"
   ]
  },
  {
   "cell_type": "code",
   "execution_count": 118,
   "id": "9051deb5-2165-4285-9e1f-51943b24d199",
   "metadata": {},
   "outputs": [],
   "source": [
    "import pickle"
   ]
  },
  {
   "cell_type": "code",
   "execution_count": 120,
   "id": "1fc9f618-0b0f-4731-bc25-81fb15232812",
   "metadata": {},
   "outputs": [
    {
     "data": {
      "text/plain": [
       "Prediction(\n",
       "    reasoning='The comment is a generic promotional plug for an external news site and subscription discount. It contains no references to the video’s specific topics (Israel, Qatar, Hamas, US) and offers no arguments, evidence, or opinions related to the event. Thus, no actor attitudes can be inferred. It adds negligible insight to the discussion.',\n",
       "    mentioned_topics=[],\n",
       "    additional_themes=['news aggregation', 'media bias awareness', 'advertisement/promotion'],\n",
       "    attitude_towards_israel=None,\n",
       "    attitude_towards_us=None,\n",
       "    attitude_towards_qatar=None,\n",
       "    attitude_towards_hamas=None,\n",
       "    attitude_confidence=0.98,\n",
       "    attitude_indicators=[],\n",
       "    intelligence_score=2,\n",
       "    intelligence_markers=['proper_grammar'],\n",
       "    insightfulness_score=1,\n",
       "    insight_type='additional_context',\n",
       "    emotional_score=1\n",
       ")"
      ]
     },
     "execution_count": 120,
     "metadata": {},
     "output_type": "execute_result"
    }
   ],
   "source": [
    "all_results[0]"
   ]
  },
  {
   "cell_type": "code",
   "execution_count": 122,
   "id": "eda524d5-afe0-42b2-a97e-9169801fd0cb",
   "metadata": {},
   "outputs": [
    {
     "name": "stdout",
     "output_type": "stream",
     "text": [
      "<class 'pandas.core.frame.DataFrame'>\n",
      "RangeIndex: 649 entries, 0 to 648\n",
      "Data columns (total 4 columns):\n",
      " #   Column        Non-Null Count  Dtype \n",
      "---  ------        --------------  ----- \n",
      " 0   content       649 non-null    object\n",
      " 1   published_at  649 non-null    object\n",
      " 2   likes         649 non-null    int64 \n",
      " 3   replies       649 non-null    int64 \n",
      "dtypes: int64(2), object(2)\n",
      "memory usage: 20.4+ KB\n"
     ]
    }
   ],
   "source": [
    "all_relevant_comments.info()"
   ]
  },
  {
   "cell_type": "code",
   "execution_count": 123,
   "id": "90662a4e-1a11-451f-9574-32866809edb7",
   "metadata": {},
   "outputs": [],
   "source": [
    "all_relevant_comments = all_relevant_comments.assign(mentioned_topics=[item.mentioned_topics for item in all_results])"
   ]
  },
  {
   "cell_type": "code",
   "execution_count": 124,
   "id": "a75350e7-c5ed-43d8-8620-ffd4a00f24f1",
   "metadata": {},
   "outputs": [],
   "source": [
    "all_relevant_comments = all_relevant_comments.assign(additional_themes=[item.additional_themes for item in all_results])"
   ]
  },
  {
   "cell_type": "code",
   "execution_count": 125,
   "id": "6d3a8e4a-18cd-422a-b987-5e94063e4b14",
   "metadata": {},
   "outputs": [],
   "source": [
    "all_relevant_comments = all_relevant_comments.assign(attitude_towards_israel=[item.attitude_towards_israel for item in all_results])"
   ]
  },
  {
   "cell_type": "code",
   "execution_count": 133,
   "id": "fad0ae0f-4bfb-4bc8-9100-a9ae1776efdd",
   "metadata": {},
   "outputs": [
    {
     "name": "stdout",
     "output_type": "stream",
     "text": [
      "attitude_towards_us\n",
      "attitude_towards_qatar\n",
      "attitude_towards_hamas\n",
      "attitude_confidence\n",
      "attitude_indicators\n",
      "intelligence_score\n",
      "intelligence_markers\n",
      "insightfulness_score\n",
      "insight_type\n",
      "emotional_score\n"
     ]
    }
   ],
   "source": [
    "for k in all_results[0].keys()[4:]:\n",
    "    all_relevant_comments = all_relevant_comments.assign(k=[item[k] for item in all_results])"
   ]
  },
  {
   "cell_type": "code",
   "execution_count": 134,
   "id": "fe0bb25f-5314-4f18-9f9f-626d91cf6f83",
   "metadata": {},
   "outputs": [
    {
     "name": "stdout",
     "output_type": "stream",
     "text": [
      "<class 'pandas.core.frame.DataFrame'>\n",
      "RangeIndex: 649 entries, 0 to 648\n",
      "Data columns (total 7 columns):\n",
      " #   Column                   Non-Null Count  Dtype  \n",
      "---  ------                   --------------  -----  \n",
      " 0   content                  649 non-null    object \n",
      " 1   published_at             649 non-null    object \n",
      " 2   likes                    649 non-null    int64  \n",
      " 3   replies                  649 non-null    int64  \n",
      " 4   mentioned_topics         649 non-null    object \n",
      " 5   additional_themes        633 non-null    object \n",
      " 6   attitude_towards_israel  380 non-null    float64\n",
      "dtypes: float64(1), int64(2), object(4)\n",
      "memory usage: 35.6+ KB\n"
     ]
    }
   ],
   "source": [
    "all_relevant_comments.info()"
   ]
  },
  {
   "cell_type": "code",
   "execution_count": 135,
   "id": "25a793e5-b69c-4426-96c2-6f2f6c93a007",
   "metadata": {},
   "outputs": [],
   "source": [
    "for k in list(all_results[0].keys())[4:]:\n",
    "    all_relevant_comments = all_relevant_comments.assign(**{\n",
    "        k: [item[k] for item in all_results]\n",
    "    })"
   ]
  },
  {
   "cell_type": "code",
   "execution_count": 136,
   "id": "0385cbe5-fe40-40a0-9fdd-0f2ed69c8872",
   "metadata": {},
   "outputs": [
    {
     "name": "stdout",
     "output_type": "stream",
     "text": [
      "<class 'pandas.core.frame.DataFrame'>\n",
      "RangeIndex: 649 entries, 0 to 648\n",
      "Data columns (total 17 columns):\n",
      " #   Column                   Non-Null Count  Dtype  \n",
      "---  ------                   --------------  -----  \n",
      " 0   content                  649 non-null    object \n",
      " 1   published_at             649 non-null    object \n",
      " 2   likes                    649 non-null    int64  \n",
      " 3   replies                  649 non-null    int64  \n",
      " 4   mentioned_topics         649 non-null    object \n",
      " 5   additional_themes        633 non-null    object \n",
      " 6   attitude_towards_israel  380 non-null    float64\n",
      " 7   attitude_towards_us      187 non-null    float64\n",
      " 8   attitude_towards_qatar   312 non-null    float64\n",
      " 9   attitude_towards_hamas   222 non-null    float64\n",
      " 10  attitude_confidence      649 non-null    float64\n",
      " 11  attitude_indicators      649 non-null    object \n",
      " 12  intelligence_score       649 non-null    int64  \n",
      " 13  intelligence_markers     649 non-null    object \n",
      " 14  insightfulness_score     649 non-null    int64  \n",
      " 15  insight_type             649 non-null    object \n",
      " 16  emotional_score          649 non-null    int64  \n",
      "dtypes: float64(5), int64(5), object(7)\n",
      "memory usage: 86.3+ KB\n"
     ]
    }
   ],
   "source": [
    "all_relevant_comments.info()"
   ]
  },
  {
   "cell_type": "code",
   "execution_count": 138,
   "id": "43c4188b-e61c-4a33-8183-3efe509a86ff",
   "metadata": {},
   "outputs": [],
   "source": [
    "all_relevant_comments.to_csv('data/comments_classified.csv', index=False, encoding='utf-8')"
   ]
  },
  {
   "cell_type": "code",
   "execution_count": 139,
   "id": "5248f406-2b0a-4aab-87ad-c7834b68d307",
   "metadata": {},
   "outputs": [],
   "source": [
    "all_relevant_comments.to_pickle('data/comments_classified.pkl')"
   ]
  },
  {
   "cell_type": "markdown",
   "id": "022d0c3c-ccbe-42f5-af2a-2d3dff5feb59",
   "metadata": {},
   "source": [
    "## Insights"
   ]
  },
  {
   "cell_type": "code",
   "execution_count": 152,
   "id": "40e4a18e-ff21-4b49-bf0f-97730926b65e",
   "metadata": {},
   "outputs": [
    {
     "data": {
      "text/plain": [
       "124"
      ]
     },
     "execution_count": 152,
     "metadata": {},
     "output_type": "execute_result"
    }
   ],
   "source": [
    "len(all_relevant_comments[all_relevant_comments['attitude_towards_israel'] > 6])"
   ]
  },
  {
   "cell_type": "code",
   "execution_count": 153,
   "id": "d72d63e4-64d3-4ae5-aa51-ad3626417861",
   "metadata": {},
   "outputs": [
    {
     "data": {
      "text/plain": [
       "22"
      ]
     },
     "execution_count": 153,
     "metadata": {},
     "output_type": "execute_result"
    }
   ],
   "source": [
    "len(all_relevant_comments[all_relevant_comments['attitude_towards_us'] > 6])"
   ]
  },
  {
   "cell_type": "code",
   "execution_count": 155,
   "id": "48a06441-7fad-4ce7-a214-1b2cacaca492",
   "metadata": {},
   "outputs": [
    {
     "data": {
      "text/plain": [
       "31"
      ]
     },
     "execution_count": 155,
     "metadata": {},
     "output_type": "execute_result"
    }
   ],
   "source": [
    "len(all_relevant_comments[all_relevant_comments['attitude_towards_qatar'] > 6])"
   ]
  },
  {
   "cell_type": "code",
   "execution_count": 156,
   "id": "58257654-1df0-496f-adc8-7e93dd306937",
   "metadata": {},
   "outputs": [
    {
     "data": {
      "text/plain": [
       "7"
      ]
     },
     "execution_count": 156,
     "metadata": {},
     "output_type": "execute_result"
    }
   ],
   "source": [
    "len(all_relevant_comments[all_relevant_comments['attitude_towards_hamas'] > 6])"
   ]
  },
  {
   "cell_type": "code",
   "execution_count": 157,
   "id": "d525ea61-218b-49a5-9cfe-cf68c2ca8bbe",
   "metadata": {},
   "outputs": [
    {
     "data": {
      "text/plain": [
       "196"
      ]
     },
     "execution_count": 157,
     "metadata": {},
     "output_type": "execute_result"
    }
   ],
   "source": [
    "len(all_relevant_comments[all_relevant_comments['attitude_towards_israel'] < 5])"
   ]
  },
  {
   "cell_type": "code",
   "execution_count": 158,
   "id": "d336cbc3-cbb8-45e2-bdc7-6658bd37b6af",
   "metadata": {},
   "outputs": [
    {
     "data": {
      "text/plain": [
       "127"
      ]
     },
     "execution_count": 158,
     "metadata": {},
     "output_type": "execute_result"
    }
   ],
   "source": [
    "len(all_relevant_comments[all_relevant_comments['attitude_towards_us'] < 5])"
   ]
  },
  {
   "cell_type": "code",
   "execution_count": 159,
   "id": "e0330bc6-71d6-4864-8b56-fb95d16a57f6",
   "metadata": {},
   "outputs": [
    {
     "data": {
      "text/plain": [
       "220"
      ]
     },
     "execution_count": 159,
     "metadata": {},
     "output_type": "execute_result"
    }
   ],
   "source": [
    "len(all_relevant_comments[all_relevant_comments['attitude_towards_qatar'] < 5])"
   ]
  },
  {
   "cell_type": "code",
   "execution_count": 160,
   "id": "68b736de-dfae-47af-bff3-351a72e85caf",
   "metadata": {},
   "outputs": [
    {
     "data": {
      "text/plain": [
       "187"
      ]
     },
     "execution_count": 160,
     "metadata": {},
     "output_type": "execute_result"
    }
   ],
   "source": [
    "len(all_relevant_comments[all_relevant_comments['attitude_towards_hamas'] < 5])"
   ]
  },
  {
   "cell_type": "code",
   "execution_count": 196,
   "id": "7df872c4-9a95-45a6-8818-6443140404ec",
   "metadata": {},
   "outputs": [],
   "source": [
    "df_strong_emotions = all_relevant_comments[all_relevant_comments['emotional_score'] == 5]"
   ]
  },
  {
   "cell_type": "code",
   "execution_count": 197,
   "id": "18585ff5-0571-45fd-a222-c89584645408",
   "metadata": {},
   "outputs": [
    {
     "data": {
      "text/html": [
       "<div>\n",
       "<style scoped>\n",
       "    .dataframe tbody tr th:only-of-type {\n",
       "        vertical-align: middle;\n",
       "    }\n",
       "\n",
       "    .dataframe tbody tr th {\n",
       "        vertical-align: top;\n",
       "    }\n",
       "\n",
       "    .dataframe thead th {\n",
       "        text-align: right;\n",
       "    }\n",
       "</style>\n",
       "<table border=\"1\" class=\"dataframe\">\n",
       "  <thead>\n",
       "    <tr style=\"text-align: right;\">\n",
       "      <th></th>\n",
       "      <th>content</th>\n",
       "      <th>published_at</th>\n",
       "      <th>likes</th>\n",
       "      <th>replies</th>\n",
       "      <th>mentioned_topics</th>\n",
       "      <th>additional_themes</th>\n",
       "      <th>attitude_towards_israel</th>\n",
       "      <th>attitude_towards_us</th>\n",
       "      <th>attitude_towards_qatar</th>\n",
       "      <th>attitude_towards_hamas</th>\n",
       "      <th>attitude_confidence</th>\n",
       "      <th>attitude_indicators</th>\n",
       "      <th>intelligence_score</th>\n",
       "      <th>intelligence_markers</th>\n",
       "      <th>insightfulness_score</th>\n",
       "      <th>insight_type</th>\n",
       "      <th>emotional_score</th>\n",
       "    </tr>\n",
       "  </thead>\n",
       "  <tbody>\n",
       "    <tr>\n",
       "      <th>635</th>\n",
       "      <td>Qatar was never the messenger. It is a safe he...</td>\n",
       "      <td>2025-09-14 19:53:49.590000+00:00</td>\n",
       "      <td>1</td>\n",
       "      <td>0</td>\n",
       "      <td>[VideoTopic.QATAR, VideoTopic.QATAR_MEDIATION,...</td>\n",
       "      <td>[Islamist terrorism, 2017 Gulf diplomatic rift...</td>\n",
       "      <td>NaN</td>\n",
       "      <td>NaN</td>\n",
       "      <td>1.0</td>\n",
       "      <td>NaN</td>\n",
       "      <td>0.92</td>\n",
       "      <td>[Qatar was never the messenger., It is a safe ...</td>\n",
       "      <td>1</td>\n",
       "      <td>[domain_knowledge]</td>\n",
       "      <td>2</td>\n",
       "      <td>basic_opinion</td>\n",
       "      <td>5</td>\n",
       "    </tr>\n",
       "    <tr>\n",
       "      <th>533</th>\n",
       "      <td>Qatar isn’t “the messenger” they are the defen...</td>\n",
       "      <td>2025-09-14 19:53:23.947000+00:00</td>\n",
       "      <td>0</td>\n",
       "      <td>0</td>\n",
       "      <td>[VideoTopic.QATAR, VideoTopic.HAMAS, VideoTopi...</td>\n",
       "      <td>[anti-Islam sentiment, propaganda in Western e...</td>\n",
       "      <td>NaN</td>\n",
       "      <td>NaN</td>\n",
       "      <td>1.0</td>\n",
       "      <td>1.0</td>\n",
       "      <td>0.95</td>\n",
       "      <td>[Qatar isn’t “the messenger” they are the defe...</td>\n",
       "      <td>1</td>\n",
       "      <td>[]</td>\n",
       "      <td>1</td>\n",
       "      <td>basic_opinion</td>\n",
       "      <td>5</td>\n",
       "    </tr>\n",
       "    <tr>\n",
       "      <th>234</th>\n",
       "      <td>Will say it again, the biggest threat to world...</td>\n",
       "      <td>2025-09-15 19:52:32.868000+00:00</td>\n",
       "      <td>4</td>\n",
       "      <td>0</td>\n",
       "      <td>[VideoTopic.ISRAEL, VideoTopic.UNITED_STATES]</td>\n",
       "      <td>[US policy capture by Israel/lobby, world peac...</td>\n",
       "      <td>1.0</td>\n",
       "      <td>4.0</td>\n",
       "      <td>NaN</td>\n",
       "      <td>NaN</td>\n",
       "      <td>0.95</td>\n",
       "      <td>[the biggest threat to world Peace is ISRAEL!!...</td>\n",
       "      <td>1</td>\n",
       "      <td>[]</td>\n",
       "      <td>1</td>\n",
       "      <td>basic_opinion</td>\n",
       "      <td>5</td>\n",
       "    </tr>\n",
       "    <tr>\n",
       "      <th>115</th>\n",
       "      <td>No terrorist is safe.  That is good.  Not one ...</td>\n",
       "      <td>2025-09-15 19:52:11.690000+00:00</td>\n",
       "      <td>0</td>\n",
       "      <td>0</td>\n",
       "      <td>[VideoTopic.HAMAS, VideoTopic.ISRAELI_STRIKE]</td>\n",
       "      <td>[Counterterrorism, Eliminationist rhetoric, Mo...</td>\n",
       "      <td>NaN</td>\n",
       "      <td>NaN</td>\n",
       "      <td>NaN</td>\n",
       "      <td>1.0</td>\n",
       "      <td>0.70</td>\n",
       "      <td>[No terrorist is safe., That is good., Not one...</td>\n",
       "      <td>2</td>\n",
       "      <td>[proper_grammar]</td>\n",
       "      <td>1</td>\n",
       "      <td>basic_opinion</td>\n",
       "      <td>5</td>\n",
       "    </tr>\n",
       "    <tr>\n",
       "      <th>531</th>\n",
       "      <td>Israel is objectively out of control. The only...</td>\n",
       "      <td>2025-09-14 19:53:23.947000+00:00</td>\n",
       "      <td>2</td>\n",
       "      <td>3</td>\n",
       "      <td>[VideoTopic.ISRAEL]</td>\n",
       "      <td>[diplomatic isolation, bought alliances]</td>\n",
       "      <td>1.0</td>\n",
       "      <td>NaN</td>\n",
       "      <td>NaN</td>\n",
       "      <td>NaN</td>\n",
       "      <td>0.95</td>\n",
       "      <td>[objectively out of control, The only allies t...</td>\n",
       "      <td>2</td>\n",
       "      <td>[proper_grammar]</td>\n",
       "      <td>1</td>\n",
       "      <td>basic_opinion</td>\n",
       "      <td>5</td>\n",
       "    </tr>\n",
       "    <tr>\n",
       "      <th>396</th>\n",
       "      <td>US will never stop it's dog israel from biting...</td>\n",
       "      <td>2025-09-14 19:53:01.081000+00:00</td>\n",
       "      <td>0</td>\n",
       "      <td>0</td>\n",
       "      <td>[VideoTopic.ISRAEL, VideoTopic.UNITED_STATES, ...</td>\n",
       "      <td>[US subservience to Israel narrative, Distrust...</td>\n",
       "      <td>1.0</td>\n",
       "      <td>1.0</td>\n",
       "      <td>NaN</td>\n",
       "      <td>NaN</td>\n",
       "      <td>0.95</td>\n",
       "      <td>[US will never stop it's dog israel from bitin...</td>\n",
       "      <td>1</td>\n",
       "      <td>[]</td>\n",
       "      <td>1</td>\n",
       "      <td>basic_opinion</td>\n",
       "      <td>5</td>\n",
       "    </tr>\n",
       "    <tr>\n",
       "      <th>610</th>\n",
       "      <td>What Ceasefire Talks? Hamas doesn't want cease...</td>\n",
       "      <td>2025-09-14 19:53:43.355000+00:00</td>\n",
       "      <td>1</td>\n",
       "      <td>0</td>\n",
       "      <td>[VideoTopic.HAMAS, VideoTopic.CEASEFIRE_NEGOTI...</td>\n",
       "      <td>[rejection of negotiations, hostility toward H...</td>\n",
       "      <td>NaN</td>\n",
       "      <td>NaN</td>\n",
       "      <td>NaN</td>\n",
       "      <td>1.0</td>\n",
       "      <td>0.93</td>\n",
       "      <td>[What Ceasefire Talks?, Hamas doesn't want cea...</td>\n",
       "      <td>2</td>\n",
       "      <td>[logical_structure]</td>\n",
       "      <td>2</td>\n",
       "      <td>counter_argument</td>\n",
       "      <td>5</td>\n",
       "    </tr>\n",
       "    <tr>\n",
       "      <th>301</th>\n",
       "      <td>Hamas = genocidal  bloodthirsty terrorist who ...</td>\n",
       "      <td>2025-09-15 19:52:44.016000+00:00</td>\n",
       "      <td>0</td>\n",
       "      <td>1</td>\n",
       "      <td>[VideoTopic.HAMAS, VideoTopic.ISRAEL]</td>\n",
       "      <td>[terrorism and hostage-taking deterrence, defe...</td>\n",
       "      <td>7.0</td>\n",
       "      <td>NaN</td>\n",
       "      <td>NaN</td>\n",
       "      <td>1.0</td>\n",
       "      <td>0.84</td>\n",
       "      <td>[Hamas = genocidal bloodthirsty terrorist, The...</td>\n",
       "      <td>2</td>\n",
       "      <td>[logical_structure]</td>\n",
       "      <td>2</td>\n",
       "      <td>basic_opinion</td>\n",
       "      <td>5</td>\n",
       "    </tr>\n",
       "    <tr>\n",
       "      <th>429</th>\n",
       "      <td>All of Hamas should be exterminated.</td>\n",
       "      <td>2025-09-14 19:53:07.403000+00:00</td>\n",
       "      <td>1</td>\n",
       "      <td>0</td>\n",
       "      <td>[VideoTopic.HAMAS]</td>\n",
       "      <td>[incitement to violence, collective punishment]</td>\n",
       "      <td>NaN</td>\n",
       "      <td>NaN</td>\n",
       "      <td>NaN</td>\n",
       "      <td>1.0</td>\n",
       "      <td>1.00</td>\n",
       "      <td>[All of Hamas should be exterminated., Advocat...</td>\n",
       "      <td>1</td>\n",
       "      <td>[proper_grammar]</td>\n",
       "      <td>1</td>\n",
       "      <td>basic_opinion</td>\n",
       "      <td>5</td>\n",
       "    </tr>\n",
       "    <tr>\n",
       "      <th>563</th>\n",
       "      <td>There was never any hope that the Gaza cease f...</td>\n",
       "      <td>2025-09-14 19:53:35.135000+00:00</td>\n",
       "      <td>0</td>\n",
       "      <td>0</td>\n",
       "      <td>[VideoTopic.ISRAEL, VideoTopic.HAMAS, VideoTop...</td>\n",
       "      <td>[Two-state solution criticism, Apocalyptic pro...</td>\n",
       "      <td>9.0</td>\n",
       "      <td>NaN</td>\n",
       "      <td>NaN</td>\n",
       "      <td>1.0</td>\n",
       "      <td>0.96</td>\n",
       "      <td>[Israel cannot allow Hamas to continue to exis...</td>\n",
       "      <td>2</td>\n",
       "      <td>[proper_grammar]</td>\n",
       "      <td>1</td>\n",
       "      <td>basic_opinion</td>\n",
       "      <td>5</td>\n",
       "    </tr>\n",
       "  </tbody>\n",
       "</table>\n",
       "</div>"
      ],
      "text/plain": [
       "                                               content  \\\n",
       "635  Qatar was never the messenger. It is a safe he...   \n",
       "533  Qatar isn’t “the messenger” they are the defen...   \n",
       "234  Will say it again, the biggest threat to world...   \n",
       "115  No terrorist is safe.  That is good.  Not one ...   \n",
       "531  Israel is objectively out of control. The only...   \n",
       "396  US will never stop it's dog israel from biting...   \n",
       "610  What Ceasefire Talks? Hamas doesn't want cease...   \n",
       "301  Hamas = genocidal  bloodthirsty terrorist who ...   \n",
       "429               All of Hamas should be exterminated.   \n",
       "563  There was never any hope that the Gaza cease f...   \n",
       "\n",
       "                         published_at  likes  replies  \\\n",
       "635  2025-09-14 19:53:49.590000+00:00      1        0   \n",
       "533  2025-09-14 19:53:23.947000+00:00      0        0   \n",
       "234  2025-09-15 19:52:32.868000+00:00      4        0   \n",
       "115  2025-09-15 19:52:11.690000+00:00      0        0   \n",
       "531  2025-09-14 19:53:23.947000+00:00      2        3   \n",
       "396  2025-09-14 19:53:01.081000+00:00      0        0   \n",
       "610  2025-09-14 19:53:43.355000+00:00      1        0   \n",
       "301  2025-09-15 19:52:44.016000+00:00      0        1   \n",
       "429  2025-09-14 19:53:07.403000+00:00      1        0   \n",
       "563  2025-09-14 19:53:35.135000+00:00      0        0   \n",
       "\n",
       "                                      mentioned_topics  \\\n",
       "635  [VideoTopic.QATAR, VideoTopic.QATAR_MEDIATION,...   \n",
       "533  [VideoTopic.QATAR, VideoTopic.HAMAS, VideoTopi...   \n",
       "234      [VideoTopic.ISRAEL, VideoTopic.UNITED_STATES]   \n",
       "115      [VideoTopic.HAMAS, VideoTopic.ISRAELI_STRIKE]   \n",
       "531                                [VideoTopic.ISRAEL]   \n",
       "396  [VideoTopic.ISRAEL, VideoTopic.UNITED_STATES, ...   \n",
       "610  [VideoTopic.HAMAS, VideoTopic.CEASEFIRE_NEGOTI...   \n",
       "301              [VideoTopic.HAMAS, VideoTopic.ISRAEL]   \n",
       "429                                 [VideoTopic.HAMAS]   \n",
       "563  [VideoTopic.ISRAEL, VideoTopic.HAMAS, VideoTop...   \n",
       "\n",
       "                                     additional_themes  \\\n",
       "635  [Islamist terrorism, 2017 Gulf diplomatic rift...   \n",
       "533  [anti-Islam sentiment, propaganda in Western e...   \n",
       "234  [US policy capture by Israel/lobby, world peac...   \n",
       "115  [Counterterrorism, Eliminationist rhetoric, Mo...   \n",
       "531           [diplomatic isolation, bought alliances]   \n",
       "396  [US subservience to Israel narrative, Distrust...   \n",
       "610  [rejection of negotiations, hostility toward H...   \n",
       "301  [terrorism and hostage-taking deterrence, defe...   \n",
       "429    [incitement to violence, collective punishment]   \n",
       "563  [Two-state solution criticism, Apocalyptic pro...   \n",
       "\n",
       "     attitude_towards_israel  attitude_towards_us  attitude_towards_qatar  \\\n",
       "635                      NaN                  NaN                     1.0   \n",
       "533                      NaN                  NaN                     1.0   \n",
       "234                      1.0                  4.0                     NaN   \n",
       "115                      NaN                  NaN                     NaN   \n",
       "531                      1.0                  NaN                     NaN   \n",
       "396                      1.0                  1.0                     NaN   \n",
       "610                      NaN                  NaN                     NaN   \n",
       "301                      7.0                  NaN                     NaN   \n",
       "429                      NaN                  NaN                     NaN   \n",
       "563                      9.0                  NaN                     NaN   \n",
       "\n",
       "     attitude_towards_hamas  attitude_confidence  \\\n",
       "635                     NaN                 0.92   \n",
       "533                     1.0                 0.95   \n",
       "234                     NaN                 0.95   \n",
       "115                     1.0                 0.70   \n",
       "531                     NaN                 0.95   \n",
       "396                     NaN                 0.95   \n",
       "610                     1.0                 0.93   \n",
       "301                     1.0                 0.84   \n",
       "429                     1.0                 1.00   \n",
       "563                     1.0                 0.96   \n",
       "\n",
       "                                   attitude_indicators  intelligence_score  \\\n",
       "635  [Qatar was never the messenger., It is a safe ...                   1   \n",
       "533  [Qatar isn’t “the messenger” they are the defe...                   1   \n",
       "234  [the biggest threat to world Peace is ISRAEL!!...                   1   \n",
       "115  [No terrorist is safe., That is good., Not one...                   2   \n",
       "531  [objectively out of control, The only allies t...                   2   \n",
       "396  [US will never stop it's dog israel from bitin...                   1   \n",
       "610  [What Ceasefire Talks?, Hamas doesn't want cea...                   2   \n",
       "301  [Hamas = genocidal bloodthirsty terrorist, The...                   2   \n",
       "429  [All of Hamas should be exterminated., Advocat...                   1   \n",
       "563  [Israel cannot allow Hamas to continue to exis...                   2   \n",
       "\n",
       "    intelligence_markers  insightfulness_score      insight_type  \\\n",
       "635   [domain_knowledge]                     2     basic_opinion   \n",
       "533                   []                     1     basic_opinion   \n",
       "234                   []                     1     basic_opinion   \n",
       "115     [proper_grammar]                     1     basic_opinion   \n",
       "531     [proper_grammar]                     1     basic_opinion   \n",
       "396                   []                     1     basic_opinion   \n",
       "610  [logical_structure]                     2  counter_argument   \n",
       "301  [logical_structure]                     2     basic_opinion   \n",
       "429     [proper_grammar]                     1     basic_opinion   \n",
       "563     [proper_grammar]                     1     basic_opinion   \n",
       "\n",
       "     emotional_score  \n",
       "635                5  \n",
       "533                5  \n",
       "234                5  \n",
       "115                5  \n",
       "531                5  \n",
       "396                5  \n",
       "610                5  \n",
       "301                5  \n",
       "429                5  \n",
       "563                5  "
      ]
     },
     "execution_count": 197,
     "metadata": {},
     "output_type": "execute_result"
    }
   ],
   "source": [
    "df_strong_emotions.sample(10)"
   ]
  },
  {
   "cell_type": "code",
   "execution_count": 198,
   "id": "aad068a0-bceb-45de-a62b-a4e350e652a8",
   "metadata": {},
   "outputs": [
    {
     "data": {
      "text/plain": [
       "\"US will never stop it's dog israel from biting ppl and can never be trusted as long as it is tamed by israel, no contracts or treaties with US can make you safe from israel, they are the same\""
      ]
     },
     "execution_count": 198,
     "metadata": {},
     "output_type": "execute_result"
    }
   ],
   "source": [
    "all_relevant_comments.loc[396].content"
   ]
  },
  {
   "cell_type": "code",
   "execution_count": 203,
   "id": "e09f3dcc-24be-4c72-959e-e8f686ee3d7d",
   "metadata": {},
   "outputs": [
    {
     "data": {
      "text/plain": [
       "array(['additional_context', 'counter_argument', 'predictive_analysis',\n",
       "       'basic_opinion', 'historical_parallel', 'systemic_critique',\n",
       "       'factual_correction', 'personal_experience'], dtype=object)"
      ]
     },
     "execution_count": 203,
     "metadata": {},
     "output_type": "execute_result"
    }
   ],
   "source": [
    "all_relevant_comments['insight_type'].unique()"
   ]
  },
  {
   "cell_type": "code",
   "execution_count": 207,
   "id": "e4f8e311-e1d0-4582-b44e-284e14cde0c7",
   "metadata": {},
   "outputs": [
    {
     "data": {
      "text/html": [
       "<div>\n",
       "<style scoped>\n",
       "    .dataframe tbody tr th:only-of-type {\n",
       "        vertical-align: middle;\n",
       "    }\n",
       "\n",
       "    .dataframe tbody tr th {\n",
       "        vertical-align: top;\n",
       "    }\n",
       "\n",
       "    .dataframe thead th {\n",
       "        text-align: right;\n",
       "    }\n",
       "</style>\n",
       "<table border=\"1\" class=\"dataframe\">\n",
       "  <thead>\n",
       "    <tr style=\"text-align: right;\">\n",
       "      <th></th>\n",
       "      <th>content</th>\n",
       "      <th>published_at</th>\n",
       "      <th>likes</th>\n",
       "      <th>replies</th>\n",
       "      <th>mentioned_topics</th>\n",
       "      <th>additional_themes</th>\n",
       "      <th>attitude_towards_israel</th>\n",
       "      <th>attitude_towards_us</th>\n",
       "      <th>attitude_towards_qatar</th>\n",
       "      <th>attitude_towards_hamas</th>\n",
       "      <th>attitude_confidence</th>\n",
       "      <th>attitude_indicators</th>\n",
       "      <th>intelligence_score</th>\n",
       "      <th>intelligence_markers</th>\n",
       "      <th>insightfulness_score</th>\n",
       "      <th>insight_type</th>\n",
       "      <th>emotional_score</th>\n",
       "    </tr>\n",
       "  </thead>\n",
       "  <tbody>\n",
       "    <tr>\n",
       "      <th>20</th>\n",
       "      <td>It seem extremely relevant that the second cea...</td>\n",
       "      <td>2025-09-14 19:53:09.572000+00:00</td>\n",
       "      <td>22</td>\n",
       "      <td>5</td>\n",
       "      <td>[VideoTopic.ISRAEL, VideoTopic.CEASEFIRE_NEGOT...</td>\n",
       "      <td>[media framing, accountability for ceasefire v...</td>\n",
       "      <td>3.0</td>\n",
       "      <td>NaN</td>\n",
       "      <td>NaN</td>\n",
       "      <td>NaN</td>\n",
       "      <td>0.78</td>\n",
       "      <td>[Israel unilaterally broke the ceasefire, didn...</td>\n",
       "      <td>3</td>\n",
       "      <td>[logical_structure, critical_analysis]</td>\n",
       "      <td>3</td>\n",
       "      <td>factual_correction</td>\n",
       "      <td>2</td>\n",
       "    </tr>\n",
       "    <tr>\n",
       "      <th>27</th>\n",
       "      <td>I understand that some people in the comments ...</td>\n",
       "      <td>2025-09-14 19:53:19.776000+00:00</td>\n",
       "      <td>224</td>\n",
       "      <td>18</td>\n",
       "      <td>[VideoTopic.ISRAEL, VideoTopic.QATAR, VideoTop...</td>\n",
       "      <td>[responsibility attribution, fact-checking]</td>\n",
       "      <td>3.0</td>\n",
       "      <td>3.0</td>\n",
       "      <td>7.0</td>\n",
       "      <td>NaN</td>\n",
       "      <td>0.70</td>\n",
       "      <td>[mad that Qatar is hosting Hamas leaders, the ...</td>\n",
       "      <td>3</td>\n",
       "      <td>[logical_structure, evidence_based, domain_kno...</td>\n",
       "      <td>3</td>\n",
       "      <td>factual_correction</td>\n",
       "      <td>2</td>\n",
       "    </tr>\n",
       "    <tr>\n",
       "      <th>32</th>\n",
       "      <td>Also, it's important to mention that it wasn't...</td>\n",
       "      <td>2025-09-14 19:53:21.779000+00:00</td>\n",
       "      <td>17</td>\n",
       "      <td>7</td>\n",
       "      <td>[VideoTopic.QATAR, VideoTopic.HAMAS, VideoTopi...</td>\n",
       "      <td>[civilian casualties, collateral damage]</td>\n",
       "      <td>4.0</td>\n",
       "      <td>NaN</td>\n",
       "      <td>7.0</td>\n",
       "      <td>5.0</td>\n",
       "      <td>0.60</td>\n",
       "      <td>[it wasn't just Hamas that was killed, An inno...</td>\n",
       "      <td>3</td>\n",
       "      <td>[proper_grammar, evidence_based]</td>\n",
       "      <td>3</td>\n",
       "      <td>factual_correction</td>\n",
       "      <td>2</td>\n",
       "    </tr>\n",
       "    <tr>\n",
       "      <th>36</th>\n",
       "      <td>No mention that it was the US that requested H...</td>\n",
       "      <td>2025-09-14 19:53:28.409000+00:00</td>\n",
       "      <td>25</td>\n",
       "      <td>5</td>\n",
       "      <td>[VideoTopic.UNITED_STATES, VideoTopic.QATAR, V...</td>\n",
       "      <td>[US responsibility for Hamas office in Doha, M...</td>\n",
       "      <td>NaN</td>\n",
       "      <td>3.0</td>\n",
       "      <td>7.0</td>\n",
       "      <td>3.0</td>\n",
       "      <td>0.78</td>\n",
       "      <td>[No mention that it was the US that requested ...</td>\n",
       "      <td>4</td>\n",
       "      <td>[proper_grammar, evidence_based, domain_knowle...</td>\n",
       "      <td>4</td>\n",
       "      <td>factual_correction</td>\n",
       "      <td>3</td>\n",
       "    </tr>\n",
       "    <tr>\n",
       "      <th>132</th>\n",
       "      <td>Correction:  The United States, alongside Qata...</td>\n",
       "      <td>2025-09-15 19:52:13.794000+00:00</td>\n",
       "      <td>0</td>\n",
       "      <td>0</td>\n",
       "      <td>[VideoTopic.UNITED_STATES, VideoTopic.QATAR, V...</td>\n",
       "      <td>[Iranian missile attack]</td>\n",
       "      <td>NaN</td>\n",
       "      <td>7.0</td>\n",
       "      <td>5.0</td>\n",
       "      <td>NaN</td>\n",
       "      <td>0.90</td>\n",
       "      <td>[The United States ... did defend Qatar, along...</td>\n",
       "      <td>4</td>\n",
       "      <td>[proper_grammar, logical_structure, evidence_b...</td>\n",
       "      <td>4</td>\n",
       "      <td>factual_correction</td>\n",
       "      <td>2</td>\n",
       "    </tr>\n",
       "    <tr>\n",
       "      <th>165</th>\n",
       "      <td>You are negating the stealth external tanks Is...</td>\n",
       "      <td>2025-09-15 19:52:18.378000+00:00</td>\n",
       "      <td>0</td>\n",
       "      <td>0</td>\n",
       "      <td>[VideoTopic.ISRAEL, VideoTopic.UNITED_STATES, ...</td>\n",
       "      <td>[military technology capabilities, early-warni...</td>\n",
       "      <td>7.0</td>\n",
       "      <td>8.0</td>\n",
       "      <td>5.0</td>\n",
       "      <td>NaN</td>\n",
       "      <td>0.75</td>\n",
       "      <td>[You are negating the stealth external tanks I...</td>\n",
       "      <td>3</td>\n",
       "      <td>[proper_grammar, logical_structure, domain_kno...</td>\n",
       "      <td>3</td>\n",
       "      <td>factual_correction</td>\n",
       "      <td>2</td>\n",
       "    </tr>\n",
       "    <tr>\n",
       "      <th>200</th>\n",
       "      <td>it's already been admitted that the brits refu...</td>\n",
       "      <td>2025-09-15 19:52:25.535000+00:00</td>\n",
       "      <td>0</td>\n",
       "      <td>0</td>\n",
       "      <td>[VideoTopic.ISRAELI_STRIKE, VideoTopic.F35_AIR...</td>\n",
       "      <td>[UK involvement, aerial refueling, official ad...</td>\n",
       "      <td>5.0</td>\n",
       "      <td>NaN</td>\n",
       "      <td>NaN</td>\n",
       "      <td>NaN</td>\n",
       "      <td>0.35</td>\n",
       "      <td>[\"it's already been admitted that the brits re...</td>\n",
       "      <td>2</td>\n",
       "      <td>[logical_structure]</td>\n",
       "      <td>3</td>\n",
       "      <td>factual_correction</td>\n",
       "      <td>2</td>\n",
       "    </tr>\n",
       "    <tr>\n",
       "      <th>261</th>\n",
       "      <td>The Israeli Air Force operates over a dozen ae...</td>\n",
       "      <td>2025-09-15 19:52:37.160000+00:00</td>\n",
       "      <td>1</td>\n",
       "      <td>0</td>\n",
       "      <td>[VideoTopic.ISRAEL, VideoTopic.ISRAELI_STRIKE]</td>\n",
       "      <td>[aerial refueling capability, flight route via...</td>\n",
       "      <td>5.0</td>\n",
       "      <td>NaN</td>\n",
       "      <td>NaN</td>\n",
       "      <td>NaN</td>\n",
       "      <td>0.68</td>\n",
       "      <td>[The Israeli Air Force operates over a dozen a...</td>\n",
       "      <td>4</td>\n",
       "      <td>[proper_grammar, logical_structure, domain_kno...</td>\n",
       "      <td>3</td>\n",
       "      <td>factual_correction</td>\n",
       "      <td>1</td>\n",
       "    </tr>\n",
       "    <tr>\n",
       "      <th>280</th>\n",
       "      <td>your animation did not show the US tankers tha...</td>\n",
       "      <td>2025-09-15 19:52:41.975000+00:00</td>\n",
       "      <td>0</td>\n",
       "      <td>0</td>\n",
       "      <td>[VideoTopic.ISRAEL, VideoTopic.UNITED_STATES, ...</td>\n",
       "      <td>[aerial refueling logistics, media/visual omis...</td>\n",
       "      <td>5.0</td>\n",
       "      <td>4.0</td>\n",
       "      <td>NaN</td>\n",
       "      <td>NaN</td>\n",
       "      <td>0.35</td>\n",
       "      <td>[your animation did not show the US tankers th...</td>\n",
       "      <td>3</td>\n",
       "      <td>[proper_grammar, domain_knowledge, critical_an...</td>\n",
       "      <td>2</td>\n",
       "      <td>factual_correction</td>\n",
       "      <td>2</td>\n",
       "    </tr>\n",
       "    <tr>\n",
       "      <th>302</th>\n",
       "      <td>it was not \"Strike on Qatar\", it was retaliati...</td>\n",
       "      <td>2025-09-15 19:52:44.016000+00:00</td>\n",
       "      <td>0</td>\n",
       "      <td>0</td>\n",
       "      <td>[VideoTopic.ISRAEL, VideoTopic.QATAR, VideoTop...</td>\n",
       "      <td>[retaliation/self-defense, terrorism, civilian...</td>\n",
       "      <td>7.0</td>\n",
       "      <td>NaN</td>\n",
       "      <td>5.0</td>\n",
       "      <td>1.0</td>\n",
       "      <td>0.90</td>\n",
       "      <td>[it was retaliation strike, on hamas terrorist...</td>\n",
       "      <td>3</td>\n",
       "      <td>[logical_structure, evidence_based]</td>\n",
       "      <td>3</td>\n",
       "      <td>factual_correction</td>\n",
       "      <td>3</td>\n",
       "    </tr>\n",
       "    <tr>\n",
       "      <th>314</th>\n",
       "      <td>Does anybody know any sources that back up the...</td>\n",
       "      <td>2025-09-15 19:52:48.449000+00:00</td>\n",
       "      <td>0</td>\n",
       "      <td>0</td>\n",
       "      <td>[VideoTopic.UNITED_STATES, VideoTopic.ISRAEL, ...</td>\n",
       "      <td>[request for sources, aerial refueling logisti...</td>\n",
       "      <td>5.0</td>\n",
       "      <td>5.0</td>\n",
       "      <td>NaN</td>\n",
       "      <td>NaN</td>\n",
       "      <td>0.55</td>\n",
       "      <td>[Does anybody know any sources that back up th...</td>\n",
       "      <td>4</td>\n",
       "      <td>[logical_structure, evidence_based, critical_a...</td>\n",
       "      <td>3</td>\n",
       "      <td>factual_correction</td>\n",
       "      <td>1</td>\n",
       "    </tr>\n",
       "    <tr>\n",
       "      <th>320</th>\n",
       "      <td>USA never had any security guarantees with Qatar</td>\n",
       "      <td>2025-09-15 19:52:50.439000+00:00</td>\n",
       "      <td>3</td>\n",
       "      <td>0</td>\n",
       "      <td>[VideoTopic.UNITED_STATES, VideoTopic.QATAR, V...</td>\n",
       "      <td>[security guarantees/defense commitments]</td>\n",
       "      <td>NaN</td>\n",
       "      <td>7.0</td>\n",
       "      <td>NaN</td>\n",
       "      <td>NaN</td>\n",
       "      <td>0.70</td>\n",
       "      <td>[USA never had any security guarantees with Qa...</td>\n",
       "      <td>3</td>\n",
       "      <td>[proper_grammar, logical_structure, domain_kno...</td>\n",
       "      <td>3</td>\n",
       "      <td>factual_correction</td>\n",
       "      <td>1</td>\n",
       "    </tr>\n",
       "    <tr>\n",
       "      <th>325</th>\n",
       "      <td>Qatar wasn't attacked you ignoramuses, Hamas H...</td>\n",
       "      <td>2025-09-15 19:52:50.439000+00:00</td>\n",
       "      <td>0</td>\n",
       "      <td>0</td>\n",
       "      <td>[VideoTopic.ISRAEL, VideoTopic.QATAR, VideoTop...</td>\n",
       "      <td>[state vs non-state targeting, framing of atta...</td>\n",
       "      <td>7.0</td>\n",
       "      <td>NaN</td>\n",
       "      <td>5.0</td>\n",
       "      <td>3.0</td>\n",
       "      <td>0.70</td>\n",
       "      <td>[Qatar wasn't attacked, Hamas Headquarters was...</td>\n",
       "      <td>2</td>\n",
       "      <td>[proper_grammar, logical_structure]</td>\n",
       "      <td>2</td>\n",
       "      <td>factual_correction</td>\n",
       "      <td>4</td>\n",
       "    </tr>\n",
       "    <tr>\n",
       "      <th>350</th>\n",
       "      <td>Very strange to see that such a trusted Youtub...</td>\n",
       "      <td>2025-09-15 19:52:54.767000+00:00</td>\n",
       "      <td>0</td>\n",
       "      <td>2</td>\n",
       "      <td>[VideoTopic.QATAR, VideoTopic.ISRAELI_STRIKE, ...</td>\n",
       "      <td>[accusations of propaganda/media bias, eyewitn...</td>\n",
       "      <td>5.0</td>\n",
       "      <td>NaN</td>\n",
       "      <td>5.0</td>\n",
       "      <td>NaN</td>\n",
       "      <td>0.38</td>\n",
       "      <td>[started spreading propaganda, missiles fired ...</td>\n",
       "      <td>2</td>\n",
       "      <td>[logical_structure, evidence_based, domain_kno...</td>\n",
       "      <td>3</td>\n",
       "      <td>factual_correction</td>\n",
       "      <td>3</td>\n",
       "    </tr>\n",
       "    <tr>\n",
       "      <th>355</th>\n",
       "      <td>But there were no Israeli jets over Qatar. The...</td>\n",
       "      <td>2025-09-15 19:52:54.767000+00:00</td>\n",
       "      <td>0</td>\n",
       "      <td>0</td>\n",
       "      <td>[VideoTopic.ISRAEL, VideoTopic.QATAR, VideoTop...</td>\n",
       "      <td>[stand-off missile launch, overflight vs. remo...</td>\n",
       "      <td>5.0</td>\n",
       "      <td>NaN</td>\n",
       "      <td>NaN</td>\n",
       "      <td>NaN</td>\n",
       "      <td>0.55</td>\n",
       "      <td>[There were no Israeli jets over Qatar, The mi...</td>\n",
       "      <td>3</td>\n",
       "      <td>[logical_structure, domain_knowledge]</td>\n",
       "      <td>3</td>\n",
       "      <td>factual_correction</td>\n",
       "      <td>1</td>\n",
       "    </tr>\n",
       "    <tr>\n",
       "      <th>415</th>\n",
       "      <td>1. Israel used the same flight path they used ...</td>\n",
       "      <td>2025-09-14 19:53:05.289000+00:00</td>\n",
       "      <td>0</td>\n",
       "      <td>0</td>\n",
       "      <td>[VideoTopic.ISRAEL, VideoTopic.QATAR, VideoTop...</td>\n",
       "      <td>[flight path analysis, procurement and deliver...</td>\n",
       "      <td>5.0</td>\n",
       "      <td>5.0</td>\n",
       "      <td>5.0</td>\n",
       "      <td>NaN</td>\n",
       "      <td>0.85</td>\n",
       "      <td>[Israel used the same flight path they used wh...</td>\n",
       "      <td>4</td>\n",
       "      <td>[proper_grammar, logical_structure, domain_kno...</td>\n",
       "      <td>4</td>\n",
       "      <td>factual_correction</td>\n",
       "      <td>1</td>\n",
       "    </tr>\n",
       "    <tr>\n",
       "      <th>445</th>\n",
       "      <td>It is highly unlikely that you will detect air...</td>\n",
       "      <td>2025-09-14 19:53:09.572000+00:00</td>\n",
       "      <td>0</td>\n",
       "      <td>0</td>\n",
       "      <td>[VideoTopic.AIR_DEFENSE]</td>\n",
       "      <td>[satellite detection limits, ground-based rada...</td>\n",
       "      <td>NaN</td>\n",
       "      <td>NaN</td>\n",
       "      <td>NaN</td>\n",
       "      <td>NaN</td>\n",
       "      <td>0.92</td>\n",
       "      <td>[highly unlikely that you will detect ... with...</td>\n",
       "      <td>3</td>\n",
       "      <td>[logical_structure, domain_knowledge, critical...</td>\n",
       "      <td>3</td>\n",
       "      <td>factual_correction</td>\n",
       "      <td>1</td>\n",
       "    </tr>\n",
       "    <tr>\n",
       "      <th>461</th>\n",
       "      <td>They were attacked via ballistic barak MX from...</td>\n",
       "      <td>2025-09-14 19:53:13.553000+00:00</td>\n",
       "      <td>0</td>\n",
       "      <td>0</td>\n",
       "      <td>[VideoTopic.ISRAELI_STRIKE, VideoTopic.AIR_DEF...</td>\n",
       "      <td>[strike method speculation, missile systems]</td>\n",
       "      <td>NaN</td>\n",
       "      <td>NaN</td>\n",
       "      <td>NaN</td>\n",
       "      <td>NaN</td>\n",
       "      <td>0.86</td>\n",
       "      <td>[]</td>\n",
       "      <td>2</td>\n",
       "      <td>[domain_knowledge]</td>\n",
       "      <td>2</td>\n",
       "      <td>factual_correction</td>\n",
       "      <td>1</td>\n",
       "    </tr>\n",
       "    <tr>\n",
       "      <th>489</th>\n",
       "      <td>3:58\\nThe jets flew over Syria and Iraq. Not J...</td>\n",
       "      <td>2025-09-14 19:53:15.744000+00:00</td>\n",
       "      <td>1</td>\n",
       "      <td>0</td>\n",
       "      <td>[VideoTopic.ISRAELI_STRIKE]</td>\n",
       "      <td>[flight route clarification, timestamped refer...</td>\n",
       "      <td>NaN</td>\n",
       "      <td>NaN</td>\n",
       "      <td>NaN</td>\n",
       "      <td>NaN</td>\n",
       "      <td>0.86</td>\n",
       "      <td>[]</td>\n",
       "      <td>3</td>\n",
       "      <td>[proper_grammar, logical_structure]</td>\n",
       "      <td>3</td>\n",
       "      <td>factual_correction</td>\n",
       "      <td>1</td>\n",
       "    </tr>\n",
       "    <tr>\n",
       "      <th>509</th>\n",
       "      <td>A couple criticisms:\\n1. @4:45: In \"stealth co...</td>\n",
       "      <td>2025-09-14 19:53:19.776000+00:00</td>\n",
       "      <td>0</td>\n",
       "      <td>0</td>\n",
       "      <td>[VideoTopic.ISRAEL, VideoTopic.F35_AIRCRAFT]</td>\n",
       "      <td>[aerial refueling logistics, stealth loadout a...</td>\n",
       "      <td>5.0</td>\n",
       "      <td>NaN</td>\n",
       "      <td>NaN</td>\n",
       "      <td>NaN</td>\n",
       "      <td>0.55</td>\n",
       "      <td>[Israel has it's own tanker aircraft (KC-707),...</td>\n",
       "      <td>4</td>\n",
       "      <td>[proper_grammar, logical_structure, evidence_b...</td>\n",
       "      <td>4</td>\n",
       "      <td>factual_correction</td>\n",
       "      <td>3</td>\n",
       "    </tr>\n",
       "    <tr>\n",
       "      <th>571</th>\n",
       "      <td>An interesting video.  But with regard to the ...</td>\n",
       "      <td>2025-09-14 19:53:37.273000+00:00</td>\n",
       "      <td>0</td>\n",
       "      <td>0</td>\n",
       "      <td>[VideoTopic.ISRAEL, VideoTopic.F35_AIRCRAFT]</td>\n",
       "      <td>[Aerial refueling capability, Israeli operatio...</td>\n",
       "      <td>5.0</td>\n",
       "      <td>NaN</td>\n",
       "      <td>NaN</td>\n",
       "      <td>NaN</td>\n",
       "      <td>0.75</td>\n",
       "      <td>[Israel has its own mid-air refueling capabili...</td>\n",
       "      <td>3</td>\n",
       "      <td>[logical_structure, evidence_based, domain_kno...</td>\n",
       "      <td>4</td>\n",
       "      <td>factual_correction</td>\n",
       "      <td>1</td>\n",
       "    </tr>\n",
       "    <tr>\n",
       "      <th>637</th>\n",
       "      <td>Voyager tanker is the Airbus MRTT in theory th...</td>\n",
       "      <td>2025-09-14 19:53:49.590000+00:00</td>\n",
       "      <td>0</td>\n",
       "      <td>0</td>\n",
       "      <td>[VideoTopic.F35_AIRCRAFT]</td>\n",
       "      <td>[aerial refueling compatibility, RAF Voyager/A...</td>\n",
       "      <td>NaN</td>\n",
       "      <td>NaN</td>\n",
       "      <td>NaN</td>\n",
       "      <td>NaN</td>\n",
       "      <td>0.95</td>\n",
       "      <td>[]</td>\n",
       "      <td>3</td>\n",
       "      <td>[domain_knowledge, logical_structure]</td>\n",
       "      <td>2</td>\n",
       "      <td>factual_correction</td>\n",
       "      <td>1</td>\n",
       "    </tr>\n",
       "  </tbody>\n",
       "</table>\n",
       "</div>"
      ],
      "text/plain": [
       "                                               content  \\\n",
       "20   It seem extremely relevant that the second cea...   \n",
       "27   I understand that some people in the comments ...   \n",
       "32   Also, it's important to mention that it wasn't...   \n",
       "36   No mention that it was the US that requested H...   \n",
       "132  Correction:  The United States, alongside Qata...   \n",
       "165  You are negating the stealth external tanks Is...   \n",
       "200  it's already been admitted that the brits refu...   \n",
       "261  The Israeli Air Force operates over a dozen ae...   \n",
       "280  your animation did not show the US tankers tha...   \n",
       "302  it was not \"Strike on Qatar\", it was retaliati...   \n",
       "314  Does anybody know any sources that back up the...   \n",
       "320   USA never had any security guarantees with Qatar   \n",
       "325  Qatar wasn't attacked you ignoramuses, Hamas H...   \n",
       "350  Very strange to see that such a trusted Youtub...   \n",
       "355  But there were no Israeli jets over Qatar. The...   \n",
       "415  1. Israel used the same flight path they used ...   \n",
       "445  It is highly unlikely that you will detect air...   \n",
       "461  They were attacked via ballistic barak MX from...   \n",
       "489  3:58\\nThe jets flew over Syria and Iraq. Not J...   \n",
       "509  A couple criticisms:\\n1. @4:45: In \"stealth co...   \n",
       "571  An interesting video.  But with regard to the ...   \n",
       "637  Voyager tanker is the Airbus MRTT in theory th...   \n",
       "\n",
       "                         published_at  likes  replies  \\\n",
       "20   2025-09-14 19:53:09.572000+00:00     22        5   \n",
       "27   2025-09-14 19:53:19.776000+00:00    224       18   \n",
       "32   2025-09-14 19:53:21.779000+00:00     17        7   \n",
       "36   2025-09-14 19:53:28.409000+00:00     25        5   \n",
       "132  2025-09-15 19:52:13.794000+00:00      0        0   \n",
       "165  2025-09-15 19:52:18.378000+00:00      0        0   \n",
       "200  2025-09-15 19:52:25.535000+00:00      0        0   \n",
       "261  2025-09-15 19:52:37.160000+00:00      1        0   \n",
       "280  2025-09-15 19:52:41.975000+00:00      0        0   \n",
       "302  2025-09-15 19:52:44.016000+00:00      0        0   \n",
       "314  2025-09-15 19:52:48.449000+00:00      0        0   \n",
       "320  2025-09-15 19:52:50.439000+00:00      3        0   \n",
       "325  2025-09-15 19:52:50.439000+00:00      0        0   \n",
       "350  2025-09-15 19:52:54.767000+00:00      0        2   \n",
       "355  2025-09-15 19:52:54.767000+00:00      0        0   \n",
       "415  2025-09-14 19:53:05.289000+00:00      0        0   \n",
       "445  2025-09-14 19:53:09.572000+00:00      0        0   \n",
       "461  2025-09-14 19:53:13.553000+00:00      0        0   \n",
       "489  2025-09-14 19:53:15.744000+00:00      1        0   \n",
       "509  2025-09-14 19:53:19.776000+00:00      0        0   \n",
       "571  2025-09-14 19:53:37.273000+00:00      0        0   \n",
       "637  2025-09-14 19:53:49.590000+00:00      0        0   \n",
       "\n",
       "                                      mentioned_topics  \\\n",
       "20   [VideoTopic.ISRAEL, VideoTopic.CEASEFIRE_NEGOT...   \n",
       "27   [VideoTopic.ISRAEL, VideoTopic.QATAR, VideoTop...   \n",
       "32   [VideoTopic.QATAR, VideoTopic.HAMAS, VideoTopi...   \n",
       "36   [VideoTopic.UNITED_STATES, VideoTopic.QATAR, V...   \n",
       "132  [VideoTopic.UNITED_STATES, VideoTopic.QATAR, V...   \n",
       "165  [VideoTopic.ISRAEL, VideoTopic.UNITED_STATES, ...   \n",
       "200  [VideoTopic.ISRAELI_STRIKE, VideoTopic.F35_AIR...   \n",
       "261     [VideoTopic.ISRAEL, VideoTopic.ISRAELI_STRIKE]   \n",
       "280  [VideoTopic.ISRAEL, VideoTopic.UNITED_STATES, ...   \n",
       "302  [VideoTopic.ISRAEL, VideoTopic.QATAR, VideoTop...   \n",
       "314  [VideoTopic.UNITED_STATES, VideoTopic.ISRAEL, ...   \n",
       "320  [VideoTopic.UNITED_STATES, VideoTopic.QATAR, V...   \n",
       "325  [VideoTopic.ISRAEL, VideoTopic.QATAR, VideoTop...   \n",
       "350  [VideoTopic.QATAR, VideoTopic.ISRAELI_STRIKE, ...   \n",
       "355  [VideoTopic.ISRAEL, VideoTopic.QATAR, VideoTop...   \n",
       "415  [VideoTopic.ISRAEL, VideoTopic.QATAR, VideoTop...   \n",
       "445                           [VideoTopic.AIR_DEFENSE]   \n",
       "461  [VideoTopic.ISRAELI_STRIKE, VideoTopic.AIR_DEF...   \n",
       "489                        [VideoTopic.ISRAELI_STRIKE]   \n",
       "509       [VideoTopic.ISRAEL, VideoTopic.F35_AIRCRAFT]   \n",
       "571       [VideoTopic.ISRAEL, VideoTopic.F35_AIRCRAFT]   \n",
       "637                          [VideoTopic.F35_AIRCRAFT]   \n",
       "\n",
       "                                     additional_themes  \\\n",
       "20   [media framing, accountability for ceasefire v...   \n",
       "27         [responsibility attribution, fact-checking]   \n",
       "32            [civilian casualties, collateral damage]   \n",
       "36   [US responsibility for Hamas office in Doha, M...   \n",
       "132                           [Iranian missile attack]   \n",
       "165  [military technology capabilities, early-warni...   \n",
       "200  [UK involvement, aerial refueling, official ad...   \n",
       "261  [aerial refueling capability, flight route via...   \n",
       "280  [aerial refueling logistics, media/visual omis...   \n",
       "302  [retaliation/self-defense, terrorism, civilian...   \n",
       "314  [request for sources, aerial refueling logisti...   \n",
       "320          [security guarantees/defense commitments]   \n",
       "325  [state vs non-state targeting, framing of atta...   \n",
       "350  [accusations of propaganda/media bias, eyewitn...   \n",
       "355  [stand-off missile launch, overflight vs. remo...   \n",
       "415  [flight path analysis, procurement and deliver...   \n",
       "445  [satellite detection limits, ground-based rada...   \n",
       "461       [strike method speculation, missile systems]   \n",
       "489  [flight route clarification, timestamped refer...   \n",
       "509  [aerial refueling logistics, stealth loadout a...   \n",
       "571  [Aerial refueling capability, Israeli operatio...   \n",
       "637  [aerial refueling compatibility, RAF Voyager/A...   \n",
       "\n",
       "     attitude_towards_israel  attitude_towards_us  attitude_towards_qatar  \\\n",
       "20                       3.0                  NaN                     NaN   \n",
       "27                       3.0                  3.0                     7.0   \n",
       "32                       4.0                  NaN                     7.0   \n",
       "36                       NaN                  3.0                     7.0   \n",
       "132                      NaN                  7.0                     5.0   \n",
       "165                      7.0                  8.0                     5.0   \n",
       "200                      5.0                  NaN                     NaN   \n",
       "261                      5.0                  NaN                     NaN   \n",
       "280                      5.0                  4.0                     NaN   \n",
       "302                      7.0                  NaN                     5.0   \n",
       "314                      5.0                  5.0                     NaN   \n",
       "320                      NaN                  7.0                     NaN   \n",
       "325                      7.0                  NaN                     5.0   \n",
       "350                      5.0                  NaN                     5.0   \n",
       "355                      5.0                  NaN                     NaN   \n",
       "415                      5.0                  5.0                     5.0   \n",
       "445                      NaN                  NaN                     NaN   \n",
       "461                      NaN                  NaN                     NaN   \n",
       "489                      NaN                  NaN                     NaN   \n",
       "509                      5.0                  NaN                     NaN   \n",
       "571                      5.0                  NaN                     NaN   \n",
       "637                      NaN                  NaN                     NaN   \n",
       "\n",
       "     attitude_towards_hamas  attitude_confidence  \\\n",
       "20                      NaN                 0.78   \n",
       "27                      NaN                 0.70   \n",
       "32                      5.0                 0.60   \n",
       "36                      3.0                 0.78   \n",
       "132                     NaN                 0.90   \n",
       "165                     NaN                 0.75   \n",
       "200                     NaN                 0.35   \n",
       "261                     NaN                 0.68   \n",
       "280                     NaN                 0.35   \n",
       "302                     1.0                 0.90   \n",
       "314                     NaN                 0.55   \n",
       "320                     NaN                 0.70   \n",
       "325                     3.0                 0.70   \n",
       "350                     NaN                 0.38   \n",
       "355                     NaN                 0.55   \n",
       "415                     NaN                 0.85   \n",
       "445                     NaN                 0.92   \n",
       "461                     NaN                 0.86   \n",
       "489                     NaN                 0.86   \n",
       "509                     NaN                 0.55   \n",
       "571                     NaN                 0.75   \n",
       "637                     NaN                 0.95   \n",
       "\n",
       "                                   attitude_indicators  intelligence_score  \\\n",
       "20   [Israel unilaterally broke the ceasefire, didn...                   3   \n",
       "27   [mad that Qatar is hosting Hamas leaders, the ...                   3   \n",
       "32   [it wasn't just Hamas that was killed, An inno...                   3   \n",
       "36   [No mention that it was the US that requested ...                   4   \n",
       "132  [The United States ... did defend Qatar, along...                   4   \n",
       "165  [You are negating the stealth external tanks I...                   3   \n",
       "200  [\"it's already been admitted that the brits re...                   2   \n",
       "261  [The Israeli Air Force operates over a dozen a...                   4   \n",
       "280  [your animation did not show the US tankers th...                   3   \n",
       "302  [it was retaliation strike, on hamas terrorist...                   3   \n",
       "314  [Does anybody know any sources that back up th...                   4   \n",
       "320  [USA never had any security guarantees with Qa...                   3   \n",
       "325  [Qatar wasn't attacked, Hamas Headquarters was...                   2   \n",
       "350  [started spreading propaganda, missiles fired ...                   2   \n",
       "355  [There were no Israeli jets over Qatar, The mi...                   3   \n",
       "415  [Israel used the same flight path they used wh...                   4   \n",
       "445  [highly unlikely that you will detect ... with...                   3   \n",
       "461                                                 []                   2   \n",
       "489                                                 []                   3   \n",
       "509  [Israel has it's own tanker aircraft (KC-707),...                   4   \n",
       "571  [Israel has its own mid-air refueling capabili...                   3   \n",
       "637                                                 []                   3   \n",
       "\n",
       "                                  intelligence_markers  insightfulness_score  \\\n",
       "20              [logical_structure, critical_analysis]                     3   \n",
       "27   [logical_structure, evidence_based, domain_kno...                     3   \n",
       "32                    [proper_grammar, evidence_based]                     3   \n",
       "36   [proper_grammar, evidence_based, domain_knowle...                     4   \n",
       "132  [proper_grammar, logical_structure, evidence_b...                     4   \n",
       "165  [proper_grammar, logical_structure, domain_kno...                     3   \n",
       "200                                [logical_structure]                     3   \n",
       "261  [proper_grammar, logical_structure, domain_kno...                     3   \n",
       "280  [proper_grammar, domain_knowledge, critical_an...                     2   \n",
       "302                [logical_structure, evidence_based]                     3   \n",
       "314  [logical_structure, evidence_based, critical_a...                     3   \n",
       "320  [proper_grammar, logical_structure, domain_kno...                     3   \n",
       "325                [proper_grammar, logical_structure]                     2   \n",
       "350  [logical_structure, evidence_based, domain_kno...                     3   \n",
       "355              [logical_structure, domain_knowledge]                     3   \n",
       "415  [proper_grammar, logical_structure, domain_kno...                     4   \n",
       "445  [logical_structure, domain_knowledge, critical...                     3   \n",
       "461                                 [domain_knowledge]                     2   \n",
       "489                [proper_grammar, logical_structure]                     3   \n",
       "509  [proper_grammar, logical_structure, evidence_b...                     4   \n",
       "571  [logical_structure, evidence_based, domain_kno...                     4   \n",
       "637              [domain_knowledge, logical_structure]                     2   \n",
       "\n",
       "           insight_type  emotional_score  \n",
       "20   factual_correction                2  \n",
       "27   factual_correction                2  \n",
       "32   factual_correction                2  \n",
       "36   factual_correction                3  \n",
       "132  factual_correction                2  \n",
       "165  factual_correction                2  \n",
       "200  factual_correction                2  \n",
       "261  factual_correction                1  \n",
       "280  factual_correction                2  \n",
       "302  factual_correction                3  \n",
       "314  factual_correction                1  \n",
       "320  factual_correction                1  \n",
       "325  factual_correction                4  \n",
       "350  factual_correction                3  \n",
       "355  factual_correction                1  \n",
       "415  factual_correction                1  \n",
       "445  factual_correction                1  \n",
       "461  factual_correction                1  \n",
       "489  factual_correction                1  \n",
       "509  factual_correction                3  \n",
       "571  factual_correction                1  \n",
       "637  factual_correction                1  "
      ]
     },
     "execution_count": 207,
     "metadata": {},
     "output_type": "execute_result"
    }
   ],
   "source": [
    "all_relevant_comments[all_relevant_comments['insight_type'] == 'factual_correction']"
   ]
  },
  {
   "cell_type": "code",
   "execution_count": 212,
   "id": "55b91b8c-446d-46ff-a8f0-3c9fcab71267",
   "metadata": {},
   "outputs": [
    {
     "data": {
      "text/plain": [
       "['No mention that it was the US that requested Hamas to station representatives in Qatar?\\n\\nspiegel de: \"How quickly do you Germans forget?\" asks one Qatari government official in Doha. Clearly irked, the man, in his 40s, is sitting in his office on the 34th floor of one of the Qatari capital’s glassed-in skyscrapers. In 2011, then United States President Barack Obama personally requested that the Emir of Qatar take the leadership of Hamas into his country.\\r\\n\\r\\nAt the time, Washington was seeking to establish a communications channel to the Iranian-backed terrorist group. The Americans believed that a Hamas office in Doha would be easier to access than a Hamas bureau in Tehran. Since then, Hamas chief Haniyeh has been living on the Arabian Peninsula, and with him are several veterans of the terrorist organization, including prominent Hamas leader Khaled Mashaal.\\n\\nAl Jazeera: In a 2023 opinion piece for The Wall Street Journal (WSJ), the Qatari ambassador to the US, Sheikh Meshal bin Hamad Al Thani, said that Washington wanted the office “to establish indirect lines of communication with Hamas”.',\n",
       " 'To a lot of Arab groups, Hamas is an upstart newbie that has grown arrogant. I have no doubt that Qatar was in on this to avoid the backlash of kicking out Hamas from its protections.\\n\\nWe have to remember, Jordan and Lebanon had at one point in the past, kicked out the PLO. We are starting to see something similar here. Doha gets to play the victim card, Netanyahu kicks the war back up to global relevance, and Trump now has its own justification to abandon Israel if need be. \\n\\nNow I dont think Qatar itself will totally abandon Hamas, but this is more of a disciplining an arrogant subordinate, after all top Hamas officials are still alive. Its a warning though that Qatar is prepared to play dirty and they arent doing this out of the goodness of their hearts.',\n",
       " '@CaspianReport In your video \"How Israel plans to checkmate Iran\" You stated that Israel had its own fleet of refueling tankers.  Why do you here state that the tankers were most likely provided by US CentCom?  Why the Biased reporting?',\n",
       " \"Correction:  The United States, alongside Qatari Patriot batteries did defend Qatar against a ballistic missile attack from Iran in June 2025.  One of the video's comments suggested that the US did not defend Qatar.\",\n",
       " '“There has been little coverage of this angle though, of the 97 media outlets that reported on it, nearly half were right leaning. Such imbalance is dangerous..”\\n\\nIs that an imbalance? Does Ground News actually give you the article to read or just report of the political leanings/bias being reported?',\n",
       " \"Thank you, Shirvan. I have seen no other channel (certainly not the standard media) address the most glaringly obvious fact about this attack: Other countries' airspace was used by Israel to get at Qatar. If without permission, then Israel invaded those countries airspace. If with permission, then those countries were complicit in the attack.\",\n",
       " 'Nobody talks about what third country allowed their airspace to be used for refuelling!',\n",
       " \"It would be interesting to find out why Qatar wasn't able to use its air defence systems. I saw a lot of online comments saying that it is an evidence that Qatar was secretly in on the operation to kill Hamas, but having the appearance of not being able to do anything about a foreign country bombing and killing people in your own land doesn't seem like a sound plan to me.\",\n",
       " \"I suspect Qatar will continue to host Hamas after this, the main benefit for Qatar was never just successful negotiation/broked deal, Qatar's whole strategy revolve around maintaining oversized relevance, getting bombed by Israel put Qatar into a position of strength, since now it gathers some political brownie point around Arab world.\",\n",
       " 'The fundamental problem is that Hamas will not release the hostages unless they can remain in power in Gaza, no matter what Qatar, Egypt, the US or anybody else says. The negotiations had failed even before the Israeli strike so in that respect, nothing really changed.',\n",
       " \"This was well below your normally high standards. You miss the key aspect here, the loss of trust the Arab states will now have towards America. America allowed or participated in bombing a country where they have a strategic base. The Arabs states won't look to Turkey, they'll look to Russia and China. Extricating themselves from the US will not be easy but they cannot rely on the US anymore. Also, you ignore that Israel does not want peace, it is sabotaging it at every opportunity.\",\n",
       " '🎥 Qatar, Islamism & the Gulf Divide\\n\\nQatar has long been accused of fueling radical Islam—hosting exiled leaders, financing movements, and using Al Jazeera to steer public opinion. It backed the Muslim Brotherhood, Hamas, even gave shelter to Yasser Arafat.\\n\\nThe Brotherhood’s ideology, and its links with Khomeini’s Iran, show how Sunni and Shia Islamists sometimes align. At the core of this ideology is intolerance—toward Jews, Christians, secular voices, and minorities—promoting division rather than coexistence.\\n\\nMeanwhile, the UAE and Saudi Arabia see Islamism as an existential threat. They’ve banned the Brotherhood, cut ties with Qatar, and promote a state-controlled, non-political Islam instead.\\n\\n👉 This isn’t just Gulf rivalry—it’s a clash over the region’s future:\\n\\t•\\tQatar pushing political Islam and identity politics,\\n\\t•\\tUAE & KSA trying to contain it.',\n",
       " \"4:47  Why would Israel not just use their own tankers?  Seems like a bit of a stretch to try and imply that US was directly involved.  Not saying we weren't (US citizen here).  But making grasping arguments does not help make you look objective in your analysis.  Besides that, very interesting as always.\",\n",
       " 'Israel has its own tankers, 7 KC-135.\\nI was unaware they had air launched ballistic missiles, but if they used those their F-15s would be a better launch platform with 20 nmi more combat range and 11% more thrust to weight than the F-35. Granted, Israel would have to make the assumption no one would try to 3rd party them.',\n",
       " \"The problem isn't whether Qatar supports Hamas or not (as a ton of people in the comments seem to imply),\\n\\nThe problem is in the precedence this sets for Israel. That it can bomb any country even just for pronouncing it's name wrong, and violate International Law as it wishes. Which only triggers a retaliation from Iran & co. And so and so forth, until the Dominos fall and we are hurling nuclear bombs at each other.\\n\\nInternational Laws exist for a reason. The laws were formulated at the end of the last World War, to precisely prevent another World War from reoccurring.\\n\\nAnd at this rate, we'll wipe ourselves off the face of the earth in no time.\",\n",
       " 'A quick Google search suggests that Israel operates roughly seven KC-707 tankers under the 120 Squadron, and pictures show them equipped with a flying boom system for refueling. If they have the capacity to refuel their F-35s mid-air, why is it unlikely that they did so themselves for this mission, perhaps after being granted permission to use Saudi airspace of that route was taken?',\n",
       " \"1. Israel used the same flight path they used when bombing Iran, which is over Syria and Iraq to avoid ME countries with more equipped militaries (Jordan and Saudi Arabia).\\n2. Qatar does not have THAAD systems yet, they purchased some on Trump's latest visit but they are not delivered yet.\",\n",
       " \"US security guarantees didn't fail in either case. Neither attacks targeted Qatar, and they were allowed to happen on purpose by your own analysis.\",\n",
       " \"10:42 Neither has the leverage to pressure Hamas into a deal?  What about Israel?  Hamas has agreed to terms that actually dissolve Hamas in exchange for governance by neutral international governance of the Gaza Strip.  There's nothing Hamas can agree to that Israel will accept.\",\n",
       " '- Used stealth aircraft to penetrate an ally of the US.\\n- Killed people who weren’t even citizens of that country. \\n- Didn’t inform anyone of their actions. \\n- Celebrated the elimination of terrorists.\\n\\n…the killing of Osama Bin Laden really was quite something. 😉',\n",
       " 'A couple criticisms:\\n1. @4:45: In \"stealth configuration\" munitions are carried internally, so would not have increased the fuel need. And as for \"combat maneuvers\" other than opening and closing the bay to drop munitions, really wont be doing any maneuvering.\\n2. @4:53 Israel has it\\'s own tanker aircraft (KC-707), you jumped to a massive conclusion based on a false premise. \\n3. @6:14 Again Israel has its own tankers, and we have seen them strike Yemen with is much further away.\\n\\nIn conclusion, many of your assessments are built off of false assumptions. Very disappointing when they are treated as facts.',\n",
       " 'It can be said that Israel didn’t use Jordanian and Saudi airspace, as Jordan stated it had denied Israeli permission, and if they had used it illegally, it would have probably resulted in an early warning from the 2 states, however they do use the uncontested airspace over Syria and Iraq for previous strikes and the possibility for refuelling may had occurred over Syria or Iraq as Israel uses KC-707s to refuel their jets, as seen during the air raid over Iran. Additionally from the CCTV and the pictures of the damage, I believe it was not a large sortie (many sources and creators make it out to be an air raid), I believe that it could have been 1 or 2 F-35s with Delilah cruise missiles as only structural damage to one building has been seen, and the CCTV shows just 2 explosions. Aligning with the characteristics the sortie size and of the Delilah missile, this also explains the absence of the Qatari air defence as the launch platform for the missile and the munition itself are hard to detect or track. More technical note, the air defence systems acquired by Qatar would not be optimised for these situations as they’ve been tailored towards Anti-Ballistic missile warfare utilising PAC-2/3 variants with specialised warheads for said munitions, which we had seen in the interception of the Iranian missile attack. Resulting in a possible interception being extremely difficult, on top of this, the NASAMs and other shorter range systems would have been outranged by the Delilah, making detection and interception even more difficult.\\n\\nAdditionally going to the remark of the British KC-30 stationed in Qatar that some stated that it potentially had been used to refuel the Israelis (although CaspianReport debunked it simply), it can be assumed that it was partaking in a training exercise for the Qatari air force (as they use Rafales and Eurofighters) for aerial refuelling as Qatar has on order refuelling aircraft, as this is not an uncommon occurrence for such joint exercises whether its France or Britain do happen. However those already airborne could not do anything as most likely they had no weapons to act with when the strike occurred due to no obvious anticipation of a missile strike.\\n\\nI have no information regarding if this even happened, but to me, given the information publicly available. It is the only possible explanation of what had happened, and fits the timeline when factoring in the US response to the entire scenario. Just wanted to provide my speculation as many people often discredit the situation as Qatar taking a knee for Israel.',\n",
       " \"An interesting video.  But with regard to the tanker issue, Israel gas it's own mid-air refeuling capability, both with probe and drogue and flying boom refueling apparatus.  This is the only way the Israelis were able to fly F-35s into Iran.  Israeli airborne refueling tankers were orbiting over Syria during that mission into Iran.\"]"
      ]
     },
     "execution_count": 212,
     "metadata": {},
     "output_type": "execute_result"
    }
   ],
   "source": [
    "all_relevant_comments[all_relevant_comments['insightfulness_score'] > 3]['content'].tolist()"
   ]
  },
  {
   "cell_type": "code",
   "execution_count": 209,
   "id": "2396cb69-2e89-4f62-bc4a-8819ba52d3e5",
   "metadata": {},
   "outputs": [
    {
     "data": {
      "text/plain": [
       "\"It seem extremely relevant that the second ceasefire didn't 'collapse in two months' but instead Israel unilaterally broke the ceasefire.\""
      ]
     },
     "execution_count": 209,
     "metadata": {},
     "output_type": "execute_result"
    }
   ],
   "source": [
    "all_relevant_comments.loc[20].content"
   ]
  },
  {
   "cell_type": "code",
   "execution_count": 206,
   "id": "da1c2dec-64d4-4eb7-ae88-738faf2eb754",
   "metadata": {},
   "outputs": [
    {
     "data": {
      "text/plain": [
       "'What are the Turkish troops doing in Qatar? Are they a permanent presence like the US and UK?\\n\\nI ask for interest. No judgement. I have been to Doha many times.'"
      ]
     },
     "execution_count": 206,
     "metadata": {},
     "output_type": "execute_result"
    }
   ],
   "source": [
    "all_relevant_comments.loc[242].content"
   ]
  },
  {
   "cell_type": "code",
   "execution_count": 170,
   "id": "90226a8b-e166-4490-8450-66845d854aa9",
   "metadata": {},
   "outputs": [],
   "source": [
    "all_relevant_comments = pd.read_pickle(\"data/comments_classified.pkl\") "
   ]
  },
  {
   "cell_type": "code",
   "execution_count": 172,
   "id": "c9ef0c08-eba4-4e97-a47a-e3eb5724c168",
   "metadata": {},
   "outputs": [
    {
     "data": {
      "text/html": [
       "<div>\n",
       "<style scoped>\n",
       "    .dataframe tbody tr th:only-of-type {\n",
       "        vertical-align: middle;\n",
       "    }\n",
       "\n",
       "    .dataframe tbody tr th {\n",
       "        vertical-align: top;\n",
       "    }\n",
       "\n",
       "    .dataframe thead th {\n",
       "        text-align: right;\n",
       "    }\n",
       "</style>\n",
       "<table border=\"1\" class=\"dataframe\">\n",
       "  <thead>\n",
       "    <tr style=\"text-align: right;\">\n",
       "      <th></th>\n",
       "      <th>content</th>\n",
       "      <th>published_at</th>\n",
       "      <th>likes</th>\n",
       "      <th>replies</th>\n",
       "      <th>mentioned_topics</th>\n",
       "      <th>additional_themes</th>\n",
       "      <th>attitude_towards_israel</th>\n",
       "      <th>attitude_towards_us</th>\n",
       "      <th>attitude_towards_qatar</th>\n",
       "      <th>attitude_towards_hamas</th>\n",
       "      <th>attitude_confidence</th>\n",
       "      <th>attitude_indicators</th>\n",
       "      <th>intelligence_score</th>\n",
       "      <th>intelligence_markers</th>\n",
       "      <th>insightfulness_score</th>\n",
       "      <th>insight_type</th>\n",
       "      <th>emotional_score</th>\n",
       "    </tr>\n",
       "  </thead>\n",
       "  <tbody>\n",
       "    <tr>\n",
       "      <th>467</th>\n",
       "      <td>- Used stealth aircraft to penetrate an ally o...</td>\n",
       "      <td>2025-09-14 19:53:13.553000+00:00</td>\n",
       "      <td>0</td>\n",
       "      <td>0</td>\n",
       "      <td>[VideoTopic.ISRAEL, VideoTopic.QATAR, VideoTop...</td>\n",
       "      <td>[hypocrisy/double standards, targeted killing/...</td>\n",
       "      <td>7.0</td>\n",
       "      <td>7.0</td>\n",
       "      <td>NaN</td>\n",
       "      <td>2.0</td>\n",
       "      <td>0.7</td>\n",
       "      <td>[Used stealth aircraft to penetrate an ally of...</td>\n",
       "      <td>4</td>\n",
       "      <td>[proper_grammar, logical_structure, nuanced_th...</td>\n",
       "      <td>4</td>\n",
       "      <td>historical_parallel</td>\n",
       "      <td>2</td>\n",
       "    </tr>\n",
       "  </tbody>\n",
       "</table>\n",
       "</div>"
      ],
      "text/plain": [
       "                                               content  \\\n",
       "467  - Used stealth aircraft to penetrate an ally o...   \n",
       "\n",
       "                         published_at  likes  replies  \\\n",
       "467  2025-09-14 19:53:13.553000+00:00      0        0   \n",
       "\n",
       "                                      mentioned_topics  \\\n",
       "467  [VideoTopic.ISRAEL, VideoTopic.QATAR, VideoTop...   \n",
       "\n",
       "                                     additional_themes  \\\n",
       "467  [hypocrisy/double standards, targeted killing/...   \n",
       "\n",
       "     attitude_towards_israel  attitude_towards_us  attitude_towards_qatar  \\\n",
       "467                      7.0                  7.0                     NaN   \n",
       "\n",
       "     attitude_towards_hamas  attitude_confidence  \\\n",
       "467                     2.0                  0.7   \n",
       "\n",
       "                                   attitude_indicators  intelligence_score  \\\n",
       "467  [Used stealth aircraft to penetrate an ally of...                   4   \n",
       "\n",
       "                                  intelligence_markers  insightfulness_score  \\\n",
       "467  [proper_grammar, logical_structure, nuanced_th...                     4   \n",
       "\n",
       "            insight_type  emotional_score  \n",
       "467  historical_parallel                2  "
      ]
     },
     "execution_count": 172,
     "metadata": {},
     "output_type": "execute_result"
    }
   ],
   "source": [
    "all_relevant_comments[(all_relevant_comments['attitude_towards_israel'] > 6) & (all_relevant_comments['insightfulness_score'] > 3)]"
   ]
  },
  {
   "cell_type": "code",
   "execution_count": 190,
   "id": "50f09827-bc6f-4baf-a7ee-6d8cc2ffeb30",
   "metadata": {},
   "outputs": [
    {
     "data": {
      "text/plain": [
       "'The comment uses a pointed historical parallel to the US raid that killed Osama bin Laden to frame Israel’s strike in Qatar as comparable and thus acceptable. By listing features (stealth penetration of a US ally, no prior notification, killing non-citizens) and ending with a winking reference to bin Laden, the author implies that critics accept such actions when the US does them, so Israel’s action should be viewed similarly. This signals a supportive/justifying stance toward Israel’s strike and a generally positive view of the US action, while labeling the targets as “terrorists,” implying strong condemnation of Hamas. No clear attitude toward Qatar is expressed beyond it being a “US ally.”'"
      ]
     },
     "execution_count": 190,
     "metadata": {},
     "output_type": "execute_result"
    }
   ],
   "source": [
    "reasonings[467]"
   ]
  },
  {
   "cell_type": "code",
   "execution_count": 174,
   "id": "fd5caa5f-7c06-4846-a625-2583e0345b24",
   "metadata": {},
   "outputs": [
    {
     "data": {
      "text/plain": [
       "'- Used stealth aircraft to penetrate an ally of the US.\\n- Killed people who weren’t even citizens of that country. \\n- Didn’t inform anyone of their actions. \\n- Celebrated the elimination of terrorists.\\n\\n…the killing of Osama Bin Laden really was quite something. 😉'"
      ]
     },
     "execution_count": 174,
     "metadata": {},
     "output_type": "execute_result"
    }
   ],
   "source": [
    "all_relevant_comments.loc[467].content"
   ]
  },
  {
   "cell_type": "code",
   "execution_count": 213,
   "id": "4729228e-bd5d-4b91-afe2-74954abab8c3",
   "metadata": {},
   "outputs": [
    {
     "data": {
      "text/plain": [
       "649"
      ]
     },
     "execution_count": 213,
     "metadata": {},
     "output_type": "execute_result"
    }
   ],
   "source": [
    "len(all_relevant_comments)"
   ]
  },
  {
   "cell_type": "code",
   "execution_count": 176,
   "id": "1442c619-9670-473d-857b-45514f38263a",
   "metadata": {},
   "outputs": [
    {
     "data": {
      "text/plain": [
       "Prediction(\n",
       "    reasoning='The comment is a generic promotional plug for an external news site and subscription discount. It contains no references to the video’s specific topics (Israel, Qatar, Hamas, US) and offers no arguments, evidence, or opinions related to the event. Thus, no actor attitudes can be inferred. It adds negligible insight to the discussion.',\n",
       "    mentioned_topics=[],\n",
       "    additional_themes=['news aggregation', 'media bias awareness', 'advertisement/promotion'],\n",
       "    attitude_towards_israel=None,\n",
       "    attitude_towards_us=None,\n",
       "    attitude_towards_qatar=None,\n",
       "    attitude_towards_hamas=None,\n",
       "    attitude_confidence=0.98,\n",
       "    attitude_indicators=[],\n",
       "    intelligence_score=2,\n",
       "    intelligence_markers=['proper_grammar'],\n",
       "    insightfulness_score=1,\n",
       "    insight_type='additional_context',\n",
       "    emotional_score=1\n",
       ")"
      ]
     },
     "execution_count": 176,
     "metadata": {},
     "output_type": "execute_result"
    }
   ],
   "source": [
    "all_results[0]"
   ]
  },
  {
   "cell_type": "code",
   "execution_count": 187,
   "id": "d4f1c3af-d63c-4fd2-961b-03839fcba42a",
   "metadata": {},
   "outputs": [],
   "source": [
    "reasonings = [p.reasoning for p in all_results]"
   ]
  },
  {
   "cell_type": "code",
   "execution_count": 189,
   "id": "12b41883-3a91-455f-94d2-353f51b10b0b",
   "metadata": {},
   "outputs": [],
   "source": [
    "with open('data/reasoning_all_results.pkl', 'wb') as f:\n",
    "    pickle.dump(reasonings, f)"
   ]
  },
  {
   "cell_type": "code",
   "execution_count": null,
   "id": "3cd33b6c-40b0-4e03-a7e7-dd34655226ea",
   "metadata": {},
   "outputs": [],
   "source": []
  }
 ],
 "metadata": {
  "kernelspec": {
   "display_name": "Python 3 (ipykernel)",
   "language": "python",
   "name": "python3"
  },
  "language_info": {
   "codemirror_mode": {
    "name": "ipython",
    "version": 3
   },
   "file_extension": ".py",
   "mimetype": "text/x-python",
   "name": "python",
   "nbconvert_exporter": "python",
   "pygments_lexer": "ipython3",
   "version": "3.12.11"
  }
 },
 "nbformat": 4,
 "nbformat_minor": 5
}
